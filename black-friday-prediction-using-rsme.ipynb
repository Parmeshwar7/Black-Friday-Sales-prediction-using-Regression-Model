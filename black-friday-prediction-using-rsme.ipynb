{
 "cells": [
  {
   "cell_type": "markdown",
   "id": "6a929240",
   "metadata": {
    "papermill": {
     "duration": 0.013264,
     "end_time": "2024-09-04T10:16:18.055374",
     "exception": false,
     "start_time": "2024-09-04T10:16:18.042110",
     "status": "completed"
    },
    "tags": []
   },
   "source": []
  },
  {
   "cell_type": "markdown",
   "id": "a33e48bd",
   "metadata": {
    "papermill": {
     "duration": 0.01185,
     "end_time": "2024-09-04T10:16:18.079617",
     "exception": false,
     "start_time": "2024-09-04T10:16:18.067767",
     "status": "completed"
    },
    "tags": []
   },
   "source": [
    "# **Importing Libraries**"
   ]
  },
  {
   "cell_type": "code",
   "execution_count": 1,
   "id": "7f762959",
   "metadata": {
    "execution": {
     "iopub.execute_input": "2024-09-04T10:16:18.106066Z",
     "iopub.status.busy": "2024-09-04T10:16:18.105630Z",
     "iopub.status.idle": "2024-09-04T10:16:20.593544Z",
     "shell.execute_reply": "2024-09-04T10:16:20.592118Z"
    },
    "papermill": {
     "duration": 2.505178,
     "end_time": "2024-09-04T10:16:20.596744",
     "exception": false,
     "start_time": "2024-09-04T10:16:18.091566",
     "status": "completed"
    },
    "tags": []
   },
   "outputs": [],
   "source": [
    "import numpy as np\n",
    "import pandas as pd\n",
    "import matplotlib.pyplot as plt\n",
    "from sklearn.model_selection import train_test_split\n",
    "from sklearn.linear_model import LinearRegression\n",
    "from sklearn.metrics import mean_absolute_error, mean_squared_error\n",
    "from sklearn.preprocessing import LabelEncoder"
   ]
  },
  {
   "cell_type": "markdown",
   "id": "350646bc",
   "metadata": {
    "papermill": {
     "duration": 0.012282,
     "end_time": "2024-09-04T10:16:20.624056",
     "exception": false,
     "start_time": "2024-09-04T10:16:20.611774",
     "status": "completed"
    },
    "tags": []
   },
   "source": [
    "# **Loading Data**"
   ]
  },
  {
   "cell_type": "code",
   "execution_count": 2,
   "id": "e64f5f38",
   "metadata": {
    "execution": {
     "iopub.execute_input": "2024-09-04T10:16:20.651528Z",
     "iopub.status.busy": "2024-09-04T10:16:20.651019Z",
     "iopub.status.idle": "2024-09-04T10:16:21.678420Z",
     "shell.execute_reply": "2024-09-04T10:16:21.677186Z"
    },
    "papermill": {
     "duration": 1.045377,
     "end_time": "2024-09-04T10:16:21.682253",
     "exception": false,
     "start_time": "2024-09-04T10:16:20.636876",
     "status": "completed"
    },
    "tags": []
   },
   "outputs": [],
   "source": [
    "df_train = pd.read_csv(\"/kaggle/input/black-friday-sale/train.csv\")"
   ]
  },
  {
   "cell_type": "code",
   "execution_count": 3,
   "id": "46601f66",
   "metadata": {
    "execution": {
     "iopub.execute_input": "2024-09-04T10:16:21.715921Z",
     "iopub.status.busy": "2024-09-04T10:16:21.715522Z",
     "iopub.status.idle": "2024-09-04T10:16:21.745031Z",
     "shell.execute_reply": "2024-09-04T10:16:21.743841Z"
    },
    "papermill": {
     "duration": 0.047169,
     "end_time": "2024-09-04T10:16:21.747617",
     "exception": false,
     "start_time": "2024-09-04T10:16:21.700448",
     "status": "completed"
    },
    "tags": []
   },
   "outputs": [
    {
     "data": {
      "text/html": [
       "<div>\n",
       "<style scoped>\n",
       "    .dataframe tbody tr th:only-of-type {\n",
       "        vertical-align: middle;\n",
       "    }\n",
       "\n",
       "    .dataframe tbody tr th {\n",
       "        vertical-align: top;\n",
       "    }\n",
       "\n",
       "    .dataframe thead th {\n",
       "        text-align: right;\n",
       "    }\n",
       "</style>\n",
       "<table border=\"1\" class=\"dataframe\">\n",
       "  <thead>\n",
       "    <tr style=\"text-align: right;\">\n",
       "      <th></th>\n",
       "      <th>User_ID</th>\n",
       "      <th>Product_ID</th>\n",
       "      <th>Gender</th>\n",
       "      <th>Age</th>\n",
       "      <th>Occupation</th>\n",
       "      <th>City_Category</th>\n",
       "      <th>Stay_In_Current_City_Years</th>\n",
       "      <th>Marital_Status</th>\n",
       "      <th>Product_Category_1</th>\n",
       "      <th>Product_Category_2</th>\n",
       "      <th>Product_Category_3</th>\n",
       "      <th>Purchase</th>\n",
       "    </tr>\n",
       "  </thead>\n",
       "  <tbody>\n",
       "    <tr>\n",
       "      <th>0</th>\n",
       "      <td>1000001</td>\n",
       "      <td>P00069042</td>\n",
       "      <td>F</td>\n",
       "      <td>0-17</td>\n",
       "      <td>10</td>\n",
       "      <td>A</td>\n",
       "      <td>2</td>\n",
       "      <td>0</td>\n",
       "      <td>3</td>\n",
       "      <td>NaN</td>\n",
       "      <td>NaN</td>\n",
       "      <td>8370</td>\n",
       "    </tr>\n",
       "    <tr>\n",
       "      <th>1</th>\n",
       "      <td>1000001</td>\n",
       "      <td>P00248942</td>\n",
       "      <td>F</td>\n",
       "      <td>0-17</td>\n",
       "      <td>10</td>\n",
       "      <td>A</td>\n",
       "      <td>2</td>\n",
       "      <td>0</td>\n",
       "      <td>1</td>\n",
       "      <td>6.0</td>\n",
       "      <td>14.0</td>\n",
       "      <td>15200</td>\n",
       "    </tr>\n",
       "    <tr>\n",
       "      <th>2</th>\n",
       "      <td>1000001</td>\n",
       "      <td>P00087842</td>\n",
       "      <td>F</td>\n",
       "      <td>0-17</td>\n",
       "      <td>10</td>\n",
       "      <td>A</td>\n",
       "      <td>2</td>\n",
       "      <td>0</td>\n",
       "      <td>12</td>\n",
       "      <td>NaN</td>\n",
       "      <td>NaN</td>\n",
       "      <td>1422</td>\n",
       "    </tr>\n",
       "    <tr>\n",
       "      <th>3</th>\n",
       "      <td>1000001</td>\n",
       "      <td>P00085442</td>\n",
       "      <td>F</td>\n",
       "      <td>0-17</td>\n",
       "      <td>10</td>\n",
       "      <td>A</td>\n",
       "      <td>2</td>\n",
       "      <td>0</td>\n",
       "      <td>12</td>\n",
       "      <td>14.0</td>\n",
       "      <td>NaN</td>\n",
       "      <td>1057</td>\n",
       "    </tr>\n",
       "    <tr>\n",
       "      <th>4</th>\n",
       "      <td>1000002</td>\n",
       "      <td>P00285442</td>\n",
       "      <td>M</td>\n",
       "      <td>55+</td>\n",
       "      <td>16</td>\n",
       "      <td>C</td>\n",
       "      <td>4+</td>\n",
       "      <td>0</td>\n",
       "      <td>8</td>\n",
       "      <td>NaN</td>\n",
       "      <td>NaN</td>\n",
       "      <td>7969</td>\n",
       "    </tr>\n",
       "  </tbody>\n",
       "</table>\n",
       "</div>"
      ],
      "text/plain": [
       "   User_ID Product_ID Gender   Age  Occupation City_Category  \\\n",
       "0  1000001  P00069042      F  0-17          10             A   \n",
       "1  1000001  P00248942      F  0-17          10             A   \n",
       "2  1000001  P00087842      F  0-17          10             A   \n",
       "3  1000001  P00085442      F  0-17          10             A   \n",
       "4  1000002  P00285442      M   55+          16             C   \n",
       "\n",
       "  Stay_In_Current_City_Years  Marital_Status  Product_Category_1  \\\n",
       "0                          2               0                   3   \n",
       "1                          2               0                   1   \n",
       "2                          2               0                  12   \n",
       "3                          2               0                  12   \n",
       "4                         4+               0                   8   \n",
       "\n",
       "   Product_Category_2  Product_Category_3  Purchase  \n",
       "0                 NaN                 NaN      8370  \n",
       "1                 6.0                14.0     15200  \n",
       "2                 NaN                 NaN      1422  \n",
       "3                14.0                 NaN      1057  \n",
       "4                 NaN                 NaN      7969  "
      ]
     },
     "execution_count": 3,
     "metadata": {},
     "output_type": "execute_result"
    }
   ],
   "source": [
    "df_train.head()"
   ]
  },
  {
   "cell_type": "markdown",
   "id": "f5bbce34",
   "metadata": {
    "papermill": {
     "duration": 0.018963,
     "end_time": "2024-09-04T10:16:21.785283",
     "exception": false,
     "start_time": "2024-09-04T10:16:21.766320",
     "status": "completed"
    },
    "tags": []
   },
   "source": [
    "# **Data Cleaning and Wrangling**"
   ]
  },
  {
   "cell_type": "code",
   "execution_count": 4,
   "id": "88062e66",
   "metadata": {
    "execution": {
     "iopub.execute_input": "2024-09-04T10:16:21.825675Z",
     "iopub.status.busy": "2024-09-04T10:16:21.824643Z",
     "iopub.status.idle": "2024-09-04T10:16:21.989117Z",
     "shell.execute_reply": "2024-09-04T10:16:21.987632Z"
    },
    "papermill": {
     "duration": 0.188906,
     "end_time": "2024-09-04T10:16:21.993155",
     "exception": false,
     "start_time": "2024-09-04T10:16:21.804249",
     "status": "completed"
    },
    "tags": []
   },
   "outputs": [
    {
     "name": "stdout",
     "output_type": "stream",
     "text": [
      "<class 'pandas.core.frame.DataFrame'>\n",
      "RangeIndex: 550068 entries, 0 to 550067\n",
      "Data columns (total 12 columns):\n",
      " #   Column                      Non-Null Count   Dtype  \n",
      "---  ------                      --------------   -----  \n",
      " 0   User_ID                     550068 non-null  int64  \n",
      " 1   Product_ID                  550068 non-null  object \n",
      " 2   Gender                      550068 non-null  object \n",
      " 3   Age                         550068 non-null  object \n",
      " 4   Occupation                  550068 non-null  int64  \n",
      " 5   City_Category               550068 non-null  object \n",
      " 6   Stay_In_Current_City_Years  550068 non-null  object \n",
      " 7   Marital_Status              550068 non-null  int64  \n",
      " 8   Product_Category_1          550068 non-null  int64  \n",
      " 9   Product_Category_2          376430 non-null  float64\n",
      " 10  Product_Category_3          166821 non-null  float64\n",
      " 11  Purchase                    550068 non-null  int64  \n",
      "dtypes: float64(2), int64(5), object(5)\n",
      "memory usage: 50.4+ MB\n"
     ]
    }
   ],
   "source": [
    "df= df_train\n",
    "df.info()"
   ]
  },
  {
   "cell_type": "code",
   "execution_count": 5,
   "id": "16d9962c",
   "metadata": {
    "execution": {
     "iopub.execute_input": "2024-09-04T10:16:22.022476Z",
     "iopub.status.busy": "2024-09-04T10:16:22.021683Z",
     "iopub.status.idle": "2024-09-04T10:16:22.028873Z",
     "shell.execute_reply": "2024-09-04T10:16:22.027740Z"
    },
    "papermill": {
     "duration": 0.024854,
     "end_time": "2024-09-04T10:16:22.031241",
     "exception": false,
     "start_time": "2024-09-04T10:16:22.006387",
     "status": "completed"
    },
    "tags": []
   },
   "outputs": [
    {
     "data": {
      "text/plain": [
       "Index(['User_ID', 'Product_ID', 'Gender', 'Age', 'Occupation', 'City_Category',\n",
       "       'Stay_In_Current_City_Years', 'Marital_Status', 'Product_Category_1',\n",
       "       'Product_Category_2', 'Product_Category_3', 'Purchase'],\n",
       "      dtype='object')"
      ]
     },
     "execution_count": 5,
     "metadata": {},
     "output_type": "execute_result"
    }
   ],
   "source": [
    "df.columns"
   ]
  },
  {
   "cell_type": "code",
   "execution_count": 6,
   "id": "a129fc33",
   "metadata": {
    "execution": {
     "iopub.execute_input": "2024-09-04T10:16:22.059466Z",
     "iopub.status.busy": "2024-09-04T10:16:22.058783Z",
     "iopub.status.idle": "2024-09-04T10:16:22.199574Z",
     "shell.execute_reply": "2024-09-04T10:16:22.198299Z"
    },
    "papermill": {
     "duration": 0.158104,
     "end_time": "2024-09-04T10:16:22.202286",
     "exception": false,
     "start_time": "2024-09-04T10:16:22.044182",
     "status": "completed"
    },
    "tags": []
   },
   "outputs": [
    {
     "data": {
      "text/plain": [
       "User_ID                            0\n",
       "Product_ID                         0\n",
       "Gender                             0\n",
       "Age                                0\n",
       "Occupation                         0\n",
       "City_Category                      0\n",
       "Stay_In_Current_City_Years         0\n",
       "Marital_Status                     0\n",
       "Product_Category_1                 0\n",
       "Product_Category_2            173638\n",
       "Product_Category_3            383247\n",
       "Purchase                           0\n",
       "dtype: int64"
      ]
     },
     "execution_count": 6,
     "metadata": {},
     "output_type": "execute_result"
    }
   ],
   "source": [
    "df.isnull().sum()"
   ]
  },
  {
   "cell_type": "code",
   "execution_count": 7,
   "id": "68f61c8a",
   "metadata": {
    "execution": {
     "iopub.execute_input": "2024-09-04T10:16:22.230556Z",
     "iopub.status.busy": "2024-09-04T10:16:22.229637Z",
     "iopub.status.idle": "2024-09-04T10:16:22.376396Z",
     "shell.execute_reply": "2024-09-04T10:16:22.374529Z"
    },
    "papermill": {
     "duration": 0.163735,
     "end_time": "2024-09-04T10:16:22.379125",
     "exception": false,
     "start_time": "2024-09-04T10:16:22.215390",
     "status": "completed"
    },
    "tags": []
   },
   "outputs": [
    {
     "name": "stdout",
     "output_type": "stream",
     "text": [
      "User_ID                       0.000000\n",
      "Product_ID                    0.000000\n",
      "Gender                        0.000000\n",
      "Age                           0.000000\n",
      "Occupation                    0.000000\n",
      "City_Category                 0.000000\n",
      "Stay_In_Current_City_Years    0.000000\n",
      "Marital_Status                0.000000\n",
      "Product_Category_1            0.000000\n",
      "Product_Category_2            0.315666\n",
      "Product_Category_3            0.696727\n",
      "Purchase                      0.000000\n",
      "dtype: float64\n"
     ]
    }
   ],
   "source": [
    "missing_mean = df.isnull().mean()\n",
    "print(missing_mean)"
   ]
  },
  {
   "cell_type": "code",
   "execution_count": 8,
   "id": "d0d20999",
   "metadata": {
    "execution": {
     "iopub.execute_input": "2024-09-04T10:16:22.407300Z",
     "iopub.status.busy": "2024-09-04T10:16:22.406786Z",
     "iopub.status.idle": "2024-09-04T10:16:22.571942Z",
     "shell.execute_reply": "2024-09-04T10:16:22.570616Z"
    },
    "papermill": {
     "duration": 0.182565,
     "end_time": "2024-09-04T10:16:22.575111",
     "exception": false,
     "start_time": "2024-09-04T10:16:22.392546",
     "status": "completed"
    },
    "tags": []
   },
   "outputs": [
    {
     "name": "stderr",
     "output_type": "stream",
     "text": [
      "/tmp/ipykernel_18/1765773521.py:2: FutureWarning: A value is trying to be set on a copy of a DataFrame or Series through chained assignment using an inplace method.\n",
      "The behavior will change in pandas 3.0. This inplace method will never work because the intermediate object on which we are setting values always behaves as a copy.\n",
      "\n",
      "For example, when doing 'df[col].method(value, inplace=True)', try using 'df.method({col: value}, inplace=True)' or df[col] = df[col].method(value) instead, to perform the operation inplace on the original object.\n",
      "\n",
      "\n",
      "  df['Product_Category_2'].fillna(df['Product_Category_2'].mode()[0], inplace=True)\n",
      "/tmp/ipykernel_18/1765773521.py:3: FutureWarning: A value is trying to be set on a copy of a DataFrame or Series through chained assignment using an inplace method.\n",
      "The behavior will change in pandas 3.0. This inplace method will never work because the intermediate object on which we are setting values always behaves as a copy.\n",
      "\n",
      "For example, when doing 'df[col].method(value, inplace=True)', try using 'df.method({col: value}, inplace=True)' or df[col] = df[col].method(value) instead, to perform the operation inplace on the original object.\n",
      "\n",
      "\n",
      "  df['Product_Category_3'].fillna(df['Product_Category_3'].mode()[0], inplace=True)\n"
     ]
    },
    {
     "data": {
      "text/plain": [
       "User_ID                       0\n",
       "Product_ID                    0\n",
       "Gender                        0\n",
       "Age                           0\n",
       "Occupation                    0\n",
       "City_Category                 0\n",
       "Stay_In_Current_City_Years    0\n",
       "Marital_Status                0\n",
       "Product_Category_1            0\n",
       "Product_Category_2            0\n",
       "Product_Category_3            0\n",
       "Purchase                      0\n",
       "dtype: int64"
      ]
     },
     "execution_count": 8,
     "metadata": {},
     "output_type": "execute_result"
    }
   ],
   "source": [
    "# Fill with the most frequent category\n",
    "df['Product_Category_2'].fillna(df['Product_Category_2'].mode()[0], inplace=True)\n",
    "df['Product_Category_3'].fillna(df['Product_Category_3'].mode()[0], inplace=True)\n",
    "df.isnull().sum()"
   ]
  },
  {
   "cell_type": "code",
   "execution_count": 9,
   "id": "806a599f",
   "metadata": {
    "execution": {
     "iopub.execute_input": "2024-09-04T10:16:22.603346Z",
     "iopub.status.busy": "2024-09-04T10:16:22.602929Z",
     "iopub.status.idle": "2024-09-04T10:16:22.741474Z",
     "shell.execute_reply": "2024-09-04T10:16:22.740347Z"
    },
    "papermill": {
     "duration": 0.155292,
     "end_time": "2024-09-04T10:16:22.744028",
     "exception": false,
     "start_time": "2024-09-04T10:16:22.588736",
     "status": "completed"
    },
    "tags": []
   },
   "outputs": [
    {
     "data": {
      "text/plain": [
       "User_ID                       0\n",
       "Product_ID                    0\n",
       "Gender                        0\n",
       "Age                           0\n",
       "Occupation                    0\n",
       "City_Category                 0\n",
       "Stay_In_Current_City_Years    0\n",
       "Marital_Status                0\n",
       "Product_Category_1            0\n",
       "Product_Category_2            0\n",
       "Product_Category_3            0\n",
       "Purchase                      0\n",
       "dtype: int64"
      ]
     },
     "execution_count": 9,
     "metadata": {},
     "output_type": "execute_result"
    }
   ],
   "source": [
    "df.isnull().sum()"
   ]
  },
  {
   "cell_type": "code",
   "execution_count": 10,
   "id": "5b4f74f4",
   "metadata": {
    "execution": {
     "iopub.execute_input": "2024-09-04T10:16:22.772661Z",
     "iopub.status.busy": "2024-09-04T10:16:22.771712Z",
     "iopub.status.idle": "2024-09-04T10:16:22.778367Z",
     "shell.execute_reply": "2024-09-04T10:16:22.777300Z"
    },
    "papermill": {
     "duration": 0.023283,
     "end_time": "2024-09-04T10:16:22.780555",
     "exception": false,
     "start_time": "2024-09-04T10:16:22.757272",
     "status": "completed"
    },
    "tags": []
   },
   "outputs": [
    {
     "data": {
      "text/plain": [
       "(550068, 12)"
      ]
     },
     "execution_count": 10,
     "metadata": {},
     "output_type": "execute_result"
    }
   ],
   "source": [
    "df.shape"
   ]
  },
  {
   "cell_type": "code",
   "execution_count": 11,
   "id": "8ab4e877",
   "metadata": {
    "execution": {
     "iopub.execute_input": "2024-09-04T10:16:22.809190Z",
     "iopub.status.busy": "2024-09-04T10:16:22.808808Z",
     "iopub.status.idle": "2024-09-04T10:16:22.825612Z",
     "shell.execute_reply": "2024-09-04T10:16:22.824519Z"
    },
    "papermill": {
     "duration": 0.033761,
     "end_time": "2024-09-04T10:16:22.827792",
     "exception": false,
     "start_time": "2024-09-04T10:16:22.794031",
     "status": "completed"
    },
    "tags": []
   },
   "outputs": [
    {
     "data": {
      "text/html": [
       "<div>\n",
       "<style scoped>\n",
       "    .dataframe tbody tr th:only-of-type {\n",
       "        vertical-align: middle;\n",
       "    }\n",
       "\n",
       "    .dataframe tbody tr th {\n",
       "        vertical-align: top;\n",
       "    }\n",
       "\n",
       "    .dataframe thead th {\n",
       "        text-align: right;\n",
       "    }\n",
       "</style>\n",
       "<table border=\"1\" class=\"dataframe\">\n",
       "  <thead>\n",
       "    <tr style=\"text-align: right;\">\n",
       "      <th></th>\n",
       "      <th>User_ID</th>\n",
       "      <th>Product_ID</th>\n",
       "      <th>Gender</th>\n",
       "      <th>Age</th>\n",
       "      <th>Occupation</th>\n",
       "      <th>City_Category</th>\n",
       "      <th>Stay_In_Current_City_Years</th>\n",
       "      <th>Marital_Status</th>\n",
       "      <th>Product_Category_1</th>\n",
       "      <th>Product_Category_2</th>\n",
       "      <th>Product_Category_3</th>\n",
       "      <th>Purchase</th>\n",
       "    </tr>\n",
       "  </thead>\n",
       "  <tbody>\n",
       "    <tr>\n",
       "      <th>0</th>\n",
       "      <td>1000001</td>\n",
       "      <td>P00069042</td>\n",
       "      <td>F</td>\n",
       "      <td>0-17</td>\n",
       "      <td>10</td>\n",
       "      <td>A</td>\n",
       "      <td>2</td>\n",
       "      <td>0</td>\n",
       "      <td>3</td>\n",
       "      <td>8.0</td>\n",
       "      <td>16.0</td>\n",
       "      <td>8370</td>\n",
       "    </tr>\n",
       "    <tr>\n",
       "      <th>1</th>\n",
       "      <td>1000001</td>\n",
       "      <td>P00248942</td>\n",
       "      <td>F</td>\n",
       "      <td>0-17</td>\n",
       "      <td>10</td>\n",
       "      <td>A</td>\n",
       "      <td>2</td>\n",
       "      <td>0</td>\n",
       "      <td>1</td>\n",
       "      <td>6.0</td>\n",
       "      <td>14.0</td>\n",
       "      <td>15200</td>\n",
       "    </tr>\n",
       "    <tr>\n",
       "      <th>2</th>\n",
       "      <td>1000001</td>\n",
       "      <td>P00087842</td>\n",
       "      <td>F</td>\n",
       "      <td>0-17</td>\n",
       "      <td>10</td>\n",
       "      <td>A</td>\n",
       "      <td>2</td>\n",
       "      <td>0</td>\n",
       "      <td>12</td>\n",
       "      <td>8.0</td>\n",
       "      <td>16.0</td>\n",
       "      <td>1422</td>\n",
       "    </tr>\n",
       "    <tr>\n",
       "      <th>3</th>\n",
       "      <td>1000001</td>\n",
       "      <td>P00085442</td>\n",
       "      <td>F</td>\n",
       "      <td>0-17</td>\n",
       "      <td>10</td>\n",
       "      <td>A</td>\n",
       "      <td>2</td>\n",
       "      <td>0</td>\n",
       "      <td>12</td>\n",
       "      <td>14.0</td>\n",
       "      <td>16.0</td>\n",
       "      <td>1057</td>\n",
       "    </tr>\n",
       "    <tr>\n",
       "      <th>4</th>\n",
       "      <td>1000002</td>\n",
       "      <td>P00285442</td>\n",
       "      <td>M</td>\n",
       "      <td>55+</td>\n",
       "      <td>16</td>\n",
       "      <td>C</td>\n",
       "      <td>4+</td>\n",
       "      <td>0</td>\n",
       "      <td>8</td>\n",
       "      <td>8.0</td>\n",
       "      <td>16.0</td>\n",
       "      <td>7969</td>\n",
       "    </tr>\n",
       "  </tbody>\n",
       "</table>\n",
       "</div>"
      ],
      "text/plain": [
       "   User_ID Product_ID Gender   Age  Occupation City_Category  \\\n",
       "0  1000001  P00069042      F  0-17          10             A   \n",
       "1  1000001  P00248942      F  0-17          10             A   \n",
       "2  1000001  P00087842      F  0-17          10             A   \n",
       "3  1000001  P00085442      F  0-17          10             A   \n",
       "4  1000002  P00285442      M   55+          16             C   \n",
       "\n",
       "  Stay_In_Current_City_Years  Marital_Status  Product_Category_1  \\\n",
       "0                          2               0                   3   \n",
       "1                          2               0                   1   \n",
       "2                          2               0                  12   \n",
       "3                          2               0                  12   \n",
       "4                         4+               0                   8   \n",
       "\n",
       "   Product_Category_2  Product_Category_3  Purchase  \n",
       "0                 8.0                16.0      8370  \n",
       "1                 6.0                14.0     15200  \n",
       "2                 8.0                16.0      1422  \n",
       "3                14.0                16.0      1057  \n",
       "4                 8.0                16.0      7969  "
      ]
     },
     "execution_count": 11,
     "metadata": {},
     "output_type": "execute_result"
    }
   ],
   "source": [
    "df.head()"
   ]
  },
  {
   "cell_type": "code",
   "execution_count": 12,
   "id": "0c8f1c33",
   "metadata": {
    "execution": {
     "iopub.execute_input": "2024-09-04T10:16:22.856377Z",
     "iopub.status.busy": "2024-09-04T10:16:22.855716Z",
     "iopub.status.idle": "2024-09-04T10:16:22.960833Z",
     "shell.execute_reply": "2024-09-04T10:16:22.959855Z"
    },
    "papermill": {
     "duration": 0.122219,
     "end_time": "2024-09-04T10:16:22.963386",
     "exception": false,
     "start_time": "2024-09-04T10:16:22.841167",
     "status": "completed"
    },
    "tags": []
   },
   "outputs": [],
   "source": [
    "le = LabelEncoder()\n",
    "\n",
    "df['Gender'] = le.fit_transform(df['Gender'])"
   ]
  },
  {
   "cell_type": "code",
   "execution_count": 13,
   "id": "56c0fa5b",
   "metadata": {
    "execution": {
     "iopub.execute_input": "2024-09-04T10:16:22.992942Z",
     "iopub.status.busy": "2024-09-04T10:16:22.992539Z",
     "iopub.status.idle": "2024-09-04T10:16:23.095195Z",
     "shell.execute_reply": "2024-09-04T10:16:23.094134Z"
    },
    "papermill": {
     "duration": 0.120152,
     "end_time": "2024-09-04T10:16:23.097868",
     "exception": false,
     "start_time": "2024-09-04T10:16:22.977716",
     "status": "completed"
    },
    "tags": []
   },
   "outputs": [],
   "source": [
    "le = LabelEncoder()\n",
    "\n",
    "df['City_Category'] = le.fit_transform(df['City_Category'])"
   ]
  },
  {
   "cell_type": "code",
   "execution_count": 14,
   "id": "2ee7ec18",
   "metadata": {
    "execution": {
     "iopub.execute_input": "2024-09-04T10:16:23.126641Z",
     "iopub.status.busy": "2024-09-04T10:16:23.126247Z",
     "iopub.status.idle": "2024-09-04T10:16:23.141455Z",
     "shell.execute_reply": "2024-09-04T10:16:23.140397Z"
    },
    "papermill": {
     "duration": 0.032437,
     "end_time": "2024-09-04T10:16:23.144080",
     "exception": false,
     "start_time": "2024-09-04T10:16:23.111643",
     "status": "completed"
    },
    "tags": []
   },
   "outputs": [
    {
     "data": {
      "text/html": [
       "<div>\n",
       "<style scoped>\n",
       "    .dataframe tbody tr th:only-of-type {\n",
       "        vertical-align: middle;\n",
       "    }\n",
       "\n",
       "    .dataframe tbody tr th {\n",
       "        vertical-align: top;\n",
       "    }\n",
       "\n",
       "    .dataframe thead th {\n",
       "        text-align: right;\n",
       "    }\n",
       "</style>\n",
       "<table border=\"1\" class=\"dataframe\">\n",
       "  <thead>\n",
       "    <tr style=\"text-align: right;\">\n",
       "      <th></th>\n",
       "      <th>User_ID</th>\n",
       "      <th>Product_ID</th>\n",
       "      <th>Gender</th>\n",
       "      <th>Age</th>\n",
       "      <th>Occupation</th>\n",
       "      <th>City_Category</th>\n",
       "      <th>Stay_In_Current_City_Years</th>\n",
       "      <th>Marital_Status</th>\n",
       "      <th>Product_Category_1</th>\n",
       "      <th>Product_Category_2</th>\n",
       "      <th>Product_Category_3</th>\n",
       "      <th>Purchase</th>\n",
       "    </tr>\n",
       "  </thead>\n",
       "  <tbody>\n",
       "    <tr>\n",
       "      <th>0</th>\n",
       "      <td>1000001</td>\n",
       "      <td>P00069042</td>\n",
       "      <td>0</td>\n",
       "      <td>0-17</td>\n",
       "      <td>10</td>\n",
       "      <td>0</td>\n",
       "      <td>2</td>\n",
       "      <td>0</td>\n",
       "      <td>3</td>\n",
       "      <td>8.0</td>\n",
       "      <td>16.0</td>\n",
       "      <td>8370</td>\n",
       "    </tr>\n",
       "    <tr>\n",
       "      <th>1</th>\n",
       "      <td>1000001</td>\n",
       "      <td>P00248942</td>\n",
       "      <td>0</td>\n",
       "      <td>0-17</td>\n",
       "      <td>10</td>\n",
       "      <td>0</td>\n",
       "      <td>2</td>\n",
       "      <td>0</td>\n",
       "      <td>1</td>\n",
       "      <td>6.0</td>\n",
       "      <td>14.0</td>\n",
       "      <td>15200</td>\n",
       "    </tr>\n",
       "    <tr>\n",
       "      <th>2</th>\n",
       "      <td>1000001</td>\n",
       "      <td>P00087842</td>\n",
       "      <td>0</td>\n",
       "      <td>0-17</td>\n",
       "      <td>10</td>\n",
       "      <td>0</td>\n",
       "      <td>2</td>\n",
       "      <td>0</td>\n",
       "      <td>12</td>\n",
       "      <td>8.0</td>\n",
       "      <td>16.0</td>\n",
       "      <td>1422</td>\n",
       "    </tr>\n",
       "    <tr>\n",
       "      <th>3</th>\n",
       "      <td>1000001</td>\n",
       "      <td>P00085442</td>\n",
       "      <td>0</td>\n",
       "      <td>0-17</td>\n",
       "      <td>10</td>\n",
       "      <td>0</td>\n",
       "      <td>2</td>\n",
       "      <td>0</td>\n",
       "      <td>12</td>\n",
       "      <td>14.0</td>\n",
       "      <td>16.0</td>\n",
       "      <td>1057</td>\n",
       "    </tr>\n",
       "    <tr>\n",
       "      <th>4</th>\n",
       "      <td>1000002</td>\n",
       "      <td>P00285442</td>\n",
       "      <td>1</td>\n",
       "      <td>55+</td>\n",
       "      <td>16</td>\n",
       "      <td>2</td>\n",
       "      <td>4+</td>\n",
       "      <td>0</td>\n",
       "      <td>8</td>\n",
       "      <td>8.0</td>\n",
       "      <td>16.0</td>\n",
       "      <td>7969</td>\n",
       "    </tr>\n",
       "  </tbody>\n",
       "</table>\n",
       "</div>"
      ],
      "text/plain": [
       "   User_ID Product_ID  Gender   Age  Occupation  City_Category  \\\n",
       "0  1000001  P00069042       0  0-17          10              0   \n",
       "1  1000001  P00248942       0  0-17          10              0   \n",
       "2  1000001  P00087842       0  0-17          10              0   \n",
       "3  1000001  P00085442       0  0-17          10              0   \n",
       "4  1000002  P00285442       1   55+          16              2   \n",
       "\n",
       "  Stay_In_Current_City_Years  Marital_Status  Product_Category_1  \\\n",
       "0                          2               0                   3   \n",
       "1                          2               0                   1   \n",
       "2                          2               0                  12   \n",
       "3                          2               0                  12   \n",
       "4                         4+               0                   8   \n",
       "\n",
       "   Product_Category_2  Product_Category_3  Purchase  \n",
       "0                 8.0                16.0      8370  \n",
       "1                 6.0                14.0     15200  \n",
       "2                 8.0                16.0      1422  \n",
       "3                14.0                16.0      1057  \n",
       "4                 8.0                16.0      7969  "
      ]
     },
     "execution_count": 14,
     "metadata": {},
     "output_type": "execute_result"
    }
   ],
   "source": [
    "df.head()"
   ]
  },
  {
   "cell_type": "code",
   "execution_count": 15,
   "id": "69f5d697",
   "metadata": {
    "execution": {
     "iopub.execute_input": "2024-09-04T10:16:23.173110Z",
     "iopub.status.busy": "2024-09-04T10:16:23.172710Z",
     "iopub.status.idle": "2024-09-04T10:16:23.220995Z",
     "shell.execute_reply": "2024-09-04T10:16:23.219875Z"
    },
    "papermill": {
     "duration": 0.065464,
     "end_time": "2024-09-04T10:16:23.223333",
     "exception": false,
     "start_time": "2024-09-04T10:16:23.157869",
     "status": "completed"
    },
    "tags": []
   },
   "outputs": [
    {
     "data": {
      "text/plain": [
       "Age\n",
       "26-35    219587\n",
       "36-45    110013\n",
       "18-25     99660\n",
       "46-50     45701\n",
       "51-55     38501\n",
       "55+       21504\n",
       "0-17      15102\n",
       "Name: count, dtype: int64"
      ]
     },
     "execution_count": 15,
     "metadata": {},
     "output_type": "execute_result"
    }
   ],
   "source": [
    "df['Age'].value_counts()"
   ]
  },
  {
   "cell_type": "code",
   "execution_count": 16,
   "id": "927234ba",
   "metadata": {
    "execution": {
     "iopub.execute_input": "2024-09-04T10:16:23.252782Z",
     "iopub.status.busy": "2024-09-04T10:16:23.252394Z",
     "iopub.status.idle": "2024-09-04T10:16:23.269450Z",
     "shell.execute_reply": "2024-09-04T10:16:23.268278Z"
    },
    "papermill": {
     "duration": 0.035133,
     "end_time": "2024-09-04T10:16:23.272365",
     "exception": false,
     "start_time": "2024-09-04T10:16:23.237232",
     "status": "completed"
    },
    "tags": []
   },
   "outputs": [
    {
     "data": {
      "text/plain": [
       "User_ID\n",
       "1001680    1026\n",
       "1004277     979\n",
       "1001941     898\n",
       "1001181     862\n",
       "1000889     823\n",
       "           ... \n",
       "1002690       7\n",
       "1002111       7\n",
       "1005810       7\n",
       "1004991       7\n",
       "1000708       6\n",
       "Name: count, Length: 5891, dtype: int64"
      ]
     },
     "execution_count": 16,
     "metadata": {},
     "output_type": "execute_result"
    }
   ],
   "source": [
    "df['User_ID'].value_counts()"
   ]
  },
  {
   "cell_type": "code",
   "execution_count": 17,
   "id": "d6b51b3b",
   "metadata": {
    "execution": {
     "iopub.execute_input": "2024-09-04T10:16:23.303475Z",
     "iopub.status.busy": "2024-09-04T10:16:23.303077Z",
     "iopub.status.idle": "2024-09-04T10:16:23.360441Z",
     "shell.execute_reply": "2024-09-04T10:16:23.359364Z"
    },
    "papermill": {
     "duration": 0.07527,
     "end_time": "2024-09-04T10:16:23.362793",
     "exception": false,
     "start_time": "2024-09-04T10:16:23.287523",
     "status": "completed"
    },
    "tags": []
   },
   "outputs": [
    {
     "data": {
      "text/plain": [
       "Product_ID\n",
       "P00265242    1880\n",
       "P00025442    1615\n",
       "P00110742    1612\n",
       "P00112142    1562\n",
       "P00057642    1470\n",
       "             ... \n",
       "P00314842       1\n",
       "P00298842       1\n",
       "P00231642       1\n",
       "P00204442       1\n",
       "P00066342       1\n",
       "Name: count, Length: 3631, dtype: int64"
      ]
     },
     "execution_count": 17,
     "metadata": {},
     "output_type": "execute_result"
    }
   ],
   "source": [
    "df['Product_ID'].value_counts()"
   ]
  },
  {
   "cell_type": "code",
   "execution_count": 18,
   "id": "b1d45bfa",
   "metadata": {
    "execution": {
     "iopub.execute_input": "2024-09-04T10:16:23.392845Z",
     "iopub.status.busy": "2024-09-04T10:16:23.392334Z",
     "iopub.status.idle": "2024-09-04T10:16:23.692705Z",
     "shell.execute_reply": "2024-09-04T10:16:23.691523Z"
    },
    "papermill": {
     "duration": 0.318484,
     "end_time": "2024-09-04T10:16:23.695479",
     "exception": false,
     "start_time": "2024-09-04T10:16:23.376995",
     "status": "completed"
    },
    "tags": []
   },
   "outputs": [],
   "source": [
    "# Convert '4+' to 4\n",
    "df['Stay_In_Current_City_Years'] = df['Stay_In_Current_City_Years'].replace('4+', 4)\n",
    "\n",
    "# Convert the column to numeric\n",
    "df['Stay_In_Current_City_Years'] = pd.to_numeric(df['Stay_In_Current_City_Years'])"
   ]
  },
  {
   "cell_type": "code",
   "execution_count": 19,
   "id": "a84c4b6a",
   "metadata": {
    "execution": {
     "iopub.execute_input": "2024-09-04T10:16:23.786864Z",
     "iopub.status.busy": "2024-09-04T10:16:23.786452Z",
     "iopub.status.idle": "2024-09-04T10:16:25.978414Z",
     "shell.execute_reply": "2024-09-04T10:16:25.977256Z"
    },
    "papermill": {
     "duration": 2.268883,
     "end_time": "2024-09-04T10:16:25.980936",
     "exception": false,
     "start_time": "2024-09-04T10:16:23.712053",
     "status": "completed"
    },
    "tags": []
   },
   "outputs": [
    {
     "name": "stderr",
     "output_type": "stream",
     "text": [
      "/opt/conda/lib/python3.10/site-packages/category_encoders/ordinal.py:198: FutureWarning: Downcasting object dtype arrays on .fillna, .ffill, .bfill is deprecated and will change in a future version. Call result.infer_objects(copy=False) instead. To opt-in to the future behavior, set `pd.set_option('future.no_silent_downcasting', True)`\n",
      "  X[column] = X[column].astype(\"object\").fillna(np.nan).map(col_mapping)\n",
      "/opt/conda/lib/python3.10/site-packages/category_encoders/ordinal.py:198: FutureWarning: Downcasting object dtype arrays on .fillna, .ffill, .bfill is deprecated and will change in a future version. Call result.infer_objects(copy=False) instead. To opt-in to the future behavior, set `pd.set_option('future.no_silent_downcasting', True)`\n",
      "  X[column] = X[column].astype(\"object\").fillna(np.nan).map(col_mapping)\n",
      "/opt/conda/lib/python3.10/site-packages/category_encoders/ordinal.py:198: FutureWarning: Downcasting object dtype arrays on .fillna, .ffill, .bfill is deprecated and will change in a future version. Call result.infer_objects(copy=False) instead. To opt-in to the future behavior, set `pd.set_option('future.no_silent_downcasting', True)`\n",
      "  X[column] = X[column].astype(\"object\").fillna(np.nan).map(col_mapping)\n"
     ]
    }
   ],
   "source": [
    "import category_encoders as ce\n",
    "\n",
    "cols_to_encode = ['User_ID']\n",
    "cols_present = set(cols_to_encode).intersection(set(df.columns))\n",
    "encoder = ce.BinaryEncoder(cols=cols_present)\n",
    "df = encoder.fit_transform(df)"
   ]
  },
  {
   "cell_type": "code",
   "execution_count": 20,
   "id": "39ee0443",
   "metadata": {
    "execution": {
     "iopub.execute_input": "2024-09-04T10:16:26.012180Z",
     "iopub.status.busy": "2024-09-04T10:16:26.011612Z",
     "iopub.status.idle": "2024-09-04T10:16:27.665862Z",
     "shell.execute_reply": "2024-09-04T10:16:27.664479Z"
    },
    "papermill": {
     "duration": 1.672758,
     "end_time": "2024-09-04T10:16:27.668483",
     "exception": false,
     "start_time": "2024-09-04T10:16:25.995725",
     "status": "completed"
    },
    "tags": []
   },
   "outputs": [],
   "source": [
    "cols_to_encode = ['Product_ID']\n",
    "cols_present = set(cols_to_encode).intersection(set(df.columns))\n",
    "encoder = ce.BinaryEncoder(cols=cols_present)\n",
    "df = encoder.fit_transform(df)"
   ]
  },
  {
   "cell_type": "code",
   "execution_count": 21,
   "id": "894cd0cc",
   "metadata": {
    "execution": {
     "iopub.execute_input": "2024-09-04T10:16:27.699908Z",
     "iopub.status.busy": "2024-09-04T10:16:27.698845Z",
     "iopub.status.idle": "2024-09-04T10:16:27.758178Z",
     "shell.execute_reply": "2024-09-04T10:16:27.757018Z"
    },
    "papermill": {
     "duration": 0.077931,
     "end_time": "2024-09-04T10:16:27.760938",
     "exception": false,
     "start_time": "2024-09-04T10:16:27.683007",
     "status": "completed"
    },
    "tags": []
   },
   "outputs": [
    {
     "name": "stdout",
     "output_type": "stream",
     "text": [
      "<class 'pandas.core.frame.DataFrame'>\n",
      "RangeIndex: 550068 entries, 0 to 550067\n",
      "Data columns (total 35 columns):\n",
      " #   Column                      Non-Null Count   Dtype  \n",
      "---  ------                      --------------   -----  \n",
      " 0   User_ID_0                   550068 non-null  int64  \n",
      " 1   User_ID_1                   550068 non-null  int64  \n",
      " 2   User_ID_2                   550068 non-null  int64  \n",
      " 3   User_ID_3                   550068 non-null  int64  \n",
      " 4   User_ID_4                   550068 non-null  int64  \n",
      " 5   User_ID_5                   550068 non-null  int64  \n",
      " 6   User_ID_6                   550068 non-null  int64  \n",
      " 7   User_ID_7                   550068 non-null  int64  \n",
      " 8   User_ID_8                   550068 non-null  int64  \n",
      " 9   User_ID_9                   550068 non-null  int64  \n",
      " 10  User_ID_10                  550068 non-null  int64  \n",
      " 11  User_ID_11                  550068 non-null  int64  \n",
      " 12  User_ID_12                  550068 non-null  int64  \n",
      " 13  Product_ID_0                550068 non-null  int64  \n",
      " 14  Product_ID_1                550068 non-null  int64  \n",
      " 15  Product_ID_2                550068 non-null  int64  \n",
      " 16  Product_ID_3                550068 non-null  int64  \n",
      " 17  Product_ID_4                550068 non-null  int64  \n",
      " 18  Product_ID_5                550068 non-null  int64  \n",
      " 19  Product_ID_6                550068 non-null  int64  \n",
      " 20  Product_ID_7                550068 non-null  int64  \n",
      " 21  Product_ID_8                550068 non-null  int64  \n",
      " 22  Product_ID_9                550068 non-null  int64  \n",
      " 23  Product_ID_10               550068 non-null  int64  \n",
      " 24  Product_ID_11               550068 non-null  int64  \n",
      " 25  Gender                      550068 non-null  int64  \n",
      " 26  Age                         550068 non-null  object \n",
      " 27  Occupation                  550068 non-null  int64  \n",
      " 28  City_Category               550068 non-null  int64  \n",
      " 29  Stay_In_Current_City_Years  550068 non-null  int64  \n",
      " 30  Marital_Status              550068 non-null  int64  \n",
      " 31  Product_Category_1          550068 non-null  int64  \n",
      " 32  Product_Category_2          550068 non-null  float64\n",
      " 33  Product_Category_3          550068 non-null  float64\n",
      " 34  Purchase                    550068 non-null  int64  \n",
      "dtypes: float64(2), int64(32), object(1)\n",
      "memory usage: 146.9+ MB\n"
     ]
    }
   ],
   "source": [
    "df.info()"
   ]
  },
  {
   "cell_type": "code",
   "execution_count": 22,
   "id": "1ea610ad",
   "metadata": {
    "execution": {
     "iopub.execute_input": "2024-09-04T10:16:27.792585Z",
     "iopub.status.busy": "2024-09-04T10:16:27.792220Z",
     "iopub.status.idle": "2024-09-04T10:16:27.903246Z",
     "shell.execute_reply": "2024-09-04T10:16:27.901955Z"
    },
    "papermill": {
     "duration": 0.1302,
     "end_time": "2024-09-04T10:16:27.906031",
     "exception": false,
     "start_time": "2024-09-04T10:16:27.775831",
     "status": "completed"
    },
    "tags": []
   },
   "outputs": [],
   "source": [
    "le = LabelEncoder()\n",
    "\n",
    "df['Age'] = le.fit_transform(df['Age'])"
   ]
  },
  {
   "cell_type": "code",
   "execution_count": 23,
   "id": "6868a02b",
   "metadata": {
    "execution": {
     "iopub.execute_input": "2024-09-04T10:16:27.937181Z",
     "iopub.status.busy": "2024-09-04T10:16:27.936791Z",
     "iopub.status.idle": "2024-09-04T10:16:27.958230Z",
     "shell.execute_reply": "2024-09-04T10:16:27.956808Z"
    },
    "papermill": {
     "duration": 0.039937,
     "end_time": "2024-09-04T10:16:27.960728",
     "exception": false,
     "start_time": "2024-09-04T10:16:27.920791",
     "status": "completed"
    },
    "tags": []
   },
   "outputs": [
    {
     "data": {
      "text/html": [
       "<div>\n",
       "<style scoped>\n",
       "    .dataframe tbody tr th:only-of-type {\n",
       "        vertical-align: middle;\n",
       "    }\n",
       "\n",
       "    .dataframe tbody tr th {\n",
       "        vertical-align: top;\n",
       "    }\n",
       "\n",
       "    .dataframe thead th {\n",
       "        text-align: right;\n",
       "    }\n",
       "</style>\n",
       "<table border=\"1\" class=\"dataframe\">\n",
       "  <thead>\n",
       "    <tr style=\"text-align: right;\">\n",
       "      <th></th>\n",
       "      <th>User_ID_0</th>\n",
       "      <th>User_ID_1</th>\n",
       "      <th>User_ID_2</th>\n",
       "      <th>User_ID_3</th>\n",
       "      <th>User_ID_4</th>\n",
       "      <th>User_ID_5</th>\n",
       "      <th>User_ID_6</th>\n",
       "      <th>User_ID_7</th>\n",
       "      <th>User_ID_8</th>\n",
       "      <th>User_ID_9</th>\n",
       "      <th>...</th>\n",
       "      <th>Gender</th>\n",
       "      <th>Age</th>\n",
       "      <th>Occupation</th>\n",
       "      <th>City_Category</th>\n",
       "      <th>Stay_In_Current_City_Years</th>\n",
       "      <th>Marital_Status</th>\n",
       "      <th>Product_Category_1</th>\n",
       "      <th>Product_Category_2</th>\n",
       "      <th>Product_Category_3</th>\n",
       "      <th>Purchase</th>\n",
       "    </tr>\n",
       "  </thead>\n",
       "  <tbody>\n",
       "    <tr>\n",
       "      <th>0</th>\n",
       "      <td>0</td>\n",
       "      <td>0</td>\n",
       "      <td>0</td>\n",
       "      <td>0</td>\n",
       "      <td>0</td>\n",
       "      <td>0</td>\n",
       "      <td>0</td>\n",
       "      <td>0</td>\n",
       "      <td>0</td>\n",
       "      <td>0</td>\n",
       "      <td>...</td>\n",
       "      <td>0</td>\n",
       "      <td>0</td>\n",
       "      <td>10</td>\n",
       "      <td>0</td>\n",
       "      <td>2</td>\n",
       "      <td>0</td>\n",
       "      <td>3</td>\n",
       "      <td>8.0</td>\n",
       "      <td>16.0</td>\n",
       "      <td>8370</td>\n",
       "    </tr>\n",
       "    <tr>\n",
       "      <th>1</th>\n",
       "      <td>0</td>\n",
       "      <td>0</td>\n",
       "      <td>0</td>\n",
       "      <td>0</td>\n",
       "      <td>0</td>\n",
       "      <td>0</td>\n",
       "      <td>0</td>\n",
       "      <td>0</td>\n",
       "      <td>0</td>\n",
       "      <td>0</td>\n",
       "      <td>...</td>\n",
       "      <td>0</td>\n",
       "      <td>0</td>\n",
       "      <td>10</td>\n",
       "      <td>0</td>\n",
       "      <td>2</td>\n",
       "      <td>0</td>\n",
       "      <td>1</td>\n",
       "      <td>6.0</td>\n",
       "      <td>14.0</td>\n",
       "      <td>15200</td>\n",
       "    </tr>\n",
       "    <tr>\n",
       "      <th>2</th>\n",
       "      <td>0</td>\n",
       "      <td>0</td>\n",
       "      <td>0</td>\n",
       "      <td>0</td>\n",
       "      <td>0</td>\n",
       "      <td>0</td>\n",
       "      <td>0</td>\n",
       "      <td>0</td>\n",
       "      <td>0</td>\n",
       "      <td>0</td>\n",
       "      <td>...</td>\n",
       "      <td>0</td>\n",
       "      <td>0</td>\n",
       "      <td>10</td>\n",
       "      <td>0</td>\n",
       "      <td>2</td>\n",
       "      <td>0</td>\n",
       "      <td>12</td>\n",
       "      <td>8.0</td>\n",
       "      <td>16.0</td>\n",
       "      <td>1422</td>\n",
       "    </tr>\n",
       "    <tr>\n",
       "      <th>3</th>\n",
       "      <td>0</td>\n",
       "      <td>0</td>\n",
       "      <td>0</td>\n",
       "      <td>0</td>\n",
       "      <td>0</td>\n",
       "      <td>0</td>\n",
       "      <td>0</td>\n",
       "      <td>0</td>\n",
       "      <td>0</td>\n",
       "      <td>0</td>\n",
       "      <td>...</td>\n",
       "      <td>0</td>\n",
       "      <td>0</td>\n",
       "      <td>10</td>\n",
       "      <td>0</td>\n",
       "      <td>2</td>\n",
       "      <td>0</td>\n",
       "      <td>12</td>\n",
       "      <td>14.0</td>\n",
       "      <td>16.0</td>\n",
       "      <td>1057</td>\n",
       "    </tr>\n",
       "    <tr>\n",
       "      <th>4</th>\n",
       "      <td>0</td>\n",
       "      <td>0</td>\n",
       "      <td>0</td>\n",
       "      <td>0</td>\n",
       "      <td>0</td>\n",
       "      <td>0</td>\n",
       "      <td>0</td>\n",
       "      <td>0</td>\n",
       "      <td>0</td>\n",
       "      <td>0</td>\n",
       "      <td>...</td>\n",
       "      <td>1</td>\n",
       "      <td>6</td>\n",
       "      <td>16</td>\n",
       "      <td>2</td>\n",
       "      <td>4</td>\n",
       "      <td>0</td>\n",
       "      <td>8</td>\n",
       "      <td>8.0</td>\n",
       "      <td>16.0</td>\n",
       "      <td>7969</td>\n",
       "    </tr>\n",
       "  </tbody>\n",
       "</table>\n",
       "<p>5 rows × 35 columns</p>\n",
       "</div>"
      ],
      "text/plain": [
       "   User_ID_0  User_ID_1  User_ID_2  User_ID_3  User_ID_4  User_ID_5  \\\n",
       "0          0          0          0          0          0          0   \n",
       "1          0          0          0          0          0          0   \n",
       "2          0          0          0          0          0          0   \n",
       "3          0          0          0          0          0          0   \n",
       "4          0          0          0          0          0          0   \n",
       "\n",
       "   User_ID_6  User_ID_7  User_ID_8  User_ID_9  ...  Gender  Age  Occupation  \\\n",
       "0          0          0          0          0  ...       0    0          10   \n",
       "1          0          0          0          0  ...       0    0          10   \n",
       "2          0          0          0          0  ...       0    0          10   \n",
       "3          0          0          0          0  ...       0    0          10   \n",
       "4          0          0          0          0  ...       1    6          16   \n",
       "\n",
       "   City_Category  Stay_In_Current_City_Years  Marital_Status  \\\n",
       "0              0                           2               0   \n",
       "1              0                           2               0   \n",
       "2              0                           2               0   \n",
       "3              0                           2               0   \n",
       "4              2                           4               0   \n",
       "\n",
       "   Product_Category_1  Product_Category_2  Product_Category_3  Purchase  \n",
       "0                   3                 8.0                16.0      8370  \n",
       "1                   1                 6.0                14.0     15200  \n",
       "2                  12                 8.0                16.0      1422  \n",
       "3                  12                14.0                16.0      1057  \n",
       "4                   8                 8.0                16.0      7969  \n",
       "\n",
       "[5 rows x 35 columns]"
      ]
     },
     "execution_count": 23,
     "metadata": {},
     "output_type": "execute_result"
    }
   ],
   "source": [
    "df.head()"
   ]
  },
  {
   "cell_type": "code",
   "execution_count": 24,
   "id": "d8439d01",
   "metadata": {
    "execution": {
     "iopub.execute_input": "2024-09-04T10:16:27.993115Z",
     "iopub.status.busy": "2024-09-04T10:16:27.992740Z",
     "iopub.status.idle": "2024-09-04T10:16:28.000184Z",
     "shell.execute_reply": "2024-09-04T10:16:27.999031Z"
    },
    "papermill": {
     "duration": 0.026439,
     "end_time": "2024-09-04T10:16:28.002589",
     "exception": false,
     "start_time": "2024-09-04T10:16:27.976150",
     "status": "completed"
    },
    "tags": []
   },
   "outputs": [
    {
     "data": {
      "text/plain": [
       "Index(['User_ID_0', 'User_ID_1', 'User_ID_2', 'User_ID_3', 'User_ID_4',\n",
       "       'User_ID_5', 'User_ID_6', 'User_ID_7', 'User_ID_8', 'User_ID_9',\n",
       "       'User_ID_10', 'User_ID_11', 'User_ID_12', 'Product_ID_0',\n",
       "       'Product_ID_1', 'Product_ID_2', 'Product_ID_3', 'Product_ID_4',\n",
       "       'Product_ID_5', 'Product_ID_6', 'Product_ID_7', 'Product_ID_8',\n",
       "       'Product_ID_9', 'Product_ID_10', 'Product_ID_11', 'Gender', 'Age',\n",
       "       'Occupation', 'City_Category', 'Stay_In_Current_City_Years',\n",
       "       'Marital_Status', 'Product_Category_1', 'Product_Category_2',\n",
       "       'Product_Category_3', 'Purchase'],\n",
       "      dtype='object')"
      ]
     },
     "execution_count": 24,
     "metadata": {},
     "output_type": "execute_result"
    }
   ],
   "source": [
    "df.columns"
   ]
  },
  {
   "cell_type": "code",
   "execution_count": 25,
   "id": "91a17dd8",
   "metadata": {
    "execution": {
     "iopub.execute_input": "2024-09-04T10:16:28.035014Z",
     "iopub.status.busy": "2024-09-04T10:16:28.034623Z",
     "iopub.status.idle": "2024-09-04T10:16:28.039915Z",
     "shell.execute_reply": "2024-09-04T10:16:28.038536Z"
    },
    "papermill": {
     "duration": 0.024136,
     "end_time": "2024-09-04T10:16:28.042256",
     "exception": false,
     "start_time": "2024-09-04T10:16:28.018120",
     "status": "completed"
    },
    "tags": []
   },
   "outputs": [],
   "source": [
    "predictors = ['Gender', 'Age','Occupation', 'City_Category', 'Stay_In_Current_City_Years',\n",
    "              'Marital_Status', 'Product_Category_1', 'Product_Category_2','Product_Category_3']"
   ]
  },
  {
   "cell_type": "code",
   "execution_count": 26,
   "id": "d3f82360",
   "metadata": {
    "execution": {
     "iopub.execute_input": "2024-09-04T10:16:28.074479Z",
     "iopub.status.busy": "2024-09-04T10:16:28.074101Z",
     "iopub.status.idle": "2024-09-04T10:16:28.088446Z",
     "shell.execute_reply": "2024-09-04T10:16:28.087275Z"
    },
    "papermill": {
     "duration": 0.033756,
     "end_time": "2024-09-04T10:16:28.091119",
     "exception": false,
     "start_time": "2024-09-04T10:16:28.057363",
     "status": "completed"
    },
    "tags": []
   },
   "outputs": [],
   "source": [
    "X= df[predictors]"
   ]
  },
  {
   "cell_type": "code",
   "execution_count": 27,
   "id": "b374fc98",
   "metadata": {
    "execution": {
     "iopub.execute_input": "2024-09-04T10:16:28.123420Z",
     "iopub.status.busy": "2024-09-04T10:16:28.123023Z",
     "iopub.status.idle": "2024-09-04T10:16:28.141470Z",
     "shell.execute_reply": "2024-09-04T10:16:28.140434Z"
    },
    "papermill": {
     "duration": 0.037629,
     "end_time": "2024-09-04T10:16:28.143993",
     "exception": false,
     "start_time": "2024-09-04T10:16:28.106364",
     "status": "completed"
    },
    "tags": []
   },
   "outputs": [
    {
     "data": {
      "text/html": [
       "<div>\n",
       "<style scoped>\n",
       "    .dataframe tbody tr th:only-of-type {\n",
       "        vertical-align: middle;\n",
       "    }\n",
       "\n",
       "    .dataframe tbody tr th {\n",
       "        vertical-align: top;\n",
       "    }\n",
       "\n",
       "    .dataframe thead th {\n",
       "        text-align: right;\n",
       "    }\n",
       "</style>\n",
       "<table border=\"1\" class=\"dataframe\">\n",
       "  <thead>\n",
       "    <tr style=\"text-align: right;\">\n",
       "      <th></th>\n",
       "      <th>Gender</th>\n",
       "      <th>Age</th>\n",
       "      <th>Occupation</th>\n",
       "      <th>City_Category</th>\n",
       "      <th>Stay_In_Current_City_Years</th>\n",
       "      <th>Marital_Status</th>\n",
       "      <th>Product_Category_1</th>\n",
       "      <th>Product_Category_2</th>\n",
       "      <th>Product_Category_3</th>\n",
       "    </tr>\n",
       "  </thead>\n",
       "  <tbody>\n",
       "    <tr>\n",
       "      <th>0</th>\n",
       "      <td>0</td>\n",
       "      <td>0</td>\n",
       "      <td>10</td>\n",
       "      <td>0</td>\n",
       "      <td>2</td>\n",
       "      <td>0</td>\n",
       "      <td>3</td>\n",
       "      <td>8.0</td>\n",
       "      <td>16.0</td>\n",
       "    </tr>\n",
       "    <tr>\n",
       "      <th>1</th>\n",
       "      <td>0</td>\n",
       "      <td>0</td>\n",
       "      <td>10</td>\n",
       "      <td>0</td>\n",
       "      <td>2</td>\n",
       "      <td>0</td>\n",
       "      <td>1</td>\n",
       "      <td>6.0</td>\n",
       "      <td>14.0</td>\n",
       "    </tr>\n",
       "    <tr>\n",
       "      <th>2</th>\n",
       "      <td>0</td>\n",
       "      <td>0</td>\n",
       "      <td>10</td>\n",
       "      <td>0</td>\n",
       "      <td>2</td>\n",
       "      <td>0</td>\n",
       "      <td>12</td>\n",
       "      <td>8.0</td>\n",
       "      <td>16.0</td>\n",
       "    </tr>\n",
       "    <tr>\n",
       "      <th>3</th>\n",
       "      <td>0</td>\n",
       "      <td>0</td>\n",
       "      <td>10</td>\n",
       "      <td>0</td>\n",
       "      <td>2</td>\n",
       "      <td>0</td>\n",
       "      <td>12</td>\n",
       "      <td>14.0</td>\n",
       "      <td>16.0</td>\n",
       "    </tr>\n",
       "    <tr>\n",
       "      <th>4</th>\n",
       "      <td>1</td>\n",
       "      <td>6</td>\n",
       "      <td>16</td>\n",
       "      <td>2</td>\n",
       "      <td>4</td>\n",
       "      <td>0</td>\n",
       "      <td>8</td>\n",
       "      <td>8.0</td>\n",
       "      <td>16.0</td>\n",
       "    </tr>\n",
       "    <tr>\n",
       "      <th>...</th>\n",
       "      <td>...</td>\n",
       "      <td>...</td>\n",
       "      <td>...</td>\n",
       "      <td>...</td>\n",
       "      <td>...</td>\n",
       "      <td>...</td>\n",
       "      <td>...</td>\n",
       "      <td>...</td>\n",
       "      <td>...</td>\n",
       "    </tr>\n",
       "    <tr>\n",
       "      <th>550063</th>\n",
       "      <td>1</td>\n",
       "      <td>5</td>\n",
       "      <td>13</td>\n",
       "      <td>1</td>\n",
       "      <td>1</td>\n",
       "      <td>1</td>\n",
       "      <td>20</td>\n",
       "      <td>8.0</td>\n",
       "      <td>16.0</td>\n",
       "    </tr>\n",
       "    <tr>\n",
       "      <th>550064</th>\n",
       "      <td>0</td>\n",
       "      <td>2</td>\n",
       "      <td>1</td>\n",
       "      <td>2</td>\n",
       "      <td>3</td>\n",
       "      <td>0</td>\n",
       "      <td>20</td>\n",
       "      <td>8.0</td>\n",
       "      <td>16.0</td>\n",
       "    </tr>\n",
       "    <tr>\n",
       "      <th>550065</th>\n",
       "      <td>0</td>\n",
       "      <td>2</td>\n",
       "      <td>15</td>\n",
       "      <td>1</td>\n",
       "      <td>4</td>\n",
       "      <td>1</td>\n",
       "      <td>20</td>\n",
       "      <td>8.0</td>\n",
       "      <td>16.0</td>\n",
       "    </tr>\n",
       "    <tr>\n",
       "      <th>550066</th>\n",
       "      <td>0</td>\n",
       "      <td>6</td>\n",
       "      <td>1</td>\n",
       "      <td>2</td>\n",
       "      <td>2</td>\n",
       "      <td>0</td>\n",
       "      <td>20</td>\n",
       "      <td>8.0</td>\n",
       "      <td>16.0</td>\n",
       "    </tr>\n",
       "    <tr>\n",
       "      <th>550067</th>\n",
       "      <td>0</td>\n",
       "      <td>4</td>\n",
       "      <td>0</td>\n",
       "      <td>1</td>\n",
       "      <td>4</td>\n",
       "      <td>1</td>\n",
       "      <td>20</td>\n",
       "      <td>8.0</td>\n",
       "      <td>16.0</td>\n",
       "    </tr>\n",
       "  </tbody>\n",
       "</table>\n",
       "<p>550068 rows × 9 columns</p>\n",
       "</div>"
      ],
      "text/plain": [
       "        Gender  Age  Occupation  City_Category  Stay_In_Current_City_Years  \\\n",
       "0            0    0          10              0                           2   \n",
       "1            0    0          10              0                           2   \n",
       "2            0    0          10              0                           2   \n",
       "3            0    0          10              0                           2   \n",
       "4            1    6          16              2                           4   \n",
       "...        ...  ...         ...            ...                         ...   \n",
       "550063       1    5          13              1                           1   \n",
       "550064       0    2           1              2                           3   \n",
       "550065       0    2          15              1                           4   \n",
       "550066       0    6           1              2                           2   \n",
       "550067       0    4           0              1                           4   \n",
       "\n",
       "        Marital_Status  Product_Category_1  Product_Category_2  \\\n",
       "0                    0                   3                 8.0   \n",
       "1                    0                   1                 6.0   \n",
       "2                    0                  12                 8.0   \n",
       "3                    0                  12                14.0   \n",
       "4                    0                   8                 8.0   \n",
       "...                ...                 ...                 ...   \n",
       "550063               1                  20                 8.0   \n",
       "550064               0                  20                 8.0   \n",
       "550065               1                  20                 8.0   \n",
       "550066               0                  20                 8.0   \n",
       "550067               1                  20                 8.0   \n",
       "\n",
       "        Product_Category_3  \n",
       "0                     16.0  \n",
       "1                     14.0  \n",
       "2                     16.0  \n",
       "3                     16.0  \n",
       "4                     16.0  \n",
       "...                    ...  \n",
       "550063                16.0  \n",
       "550064                16.0  \n",
       "550065                16.0  \n",
       "550066                16.0  \n",
       "550067                16.0  \n",
       "\n",
       "[550068 rows x 9 columns]"
      ]
     },
     "execution_count": 27,
     "metadata": {},
     "output_type": "execute_result"
    }
   ],
   "source": [
    "X"
   ]
  },
  {
   "cell_type": "code",
   "execution_count": 28,
   "id": "781ebfc7",
   "metadata": {
    "execution": {
     "iopub.execute_input": "2024-09-04T10:16:28.177405Z",
     "iopub.status.busy": "2024-09-04T10:16:28.177030Z",
     "iopub.status.idle": "2024-09-04T10:16:28.184712Z",
     "shell.execute_reply": "2024-09-04T10:16:28.183511Z"
    },
    "papermill": {
     "duration": 0.027029,
     "end_time": "2024-09-04T10:16:28.187226",
     "exception": false,
     "start_time": "2024-09-04T10:16:28.160197",
     "status": "completed"
    },
    "tags": []
   },
   "outputs": [],
   "source": [
    "df['Purchase'] = np.sqrt(df['Purchase'])"
   ]
  },
  {
   "cell_type": "code",
   "execution_count": 29,
   "id": "adad7834",
   "metadata": {
    "execution": {
     "iopub.execute_input": "2024-09-04T10:16:28.221916Z",
     "iopub.status.busy": "2024-09-04T10:16:28.221443Z",
     "iopub.status.idle": "2024-09-04T10:16:28.579746Z",
     "shell.execute_reply": "2024-09-04T10:16:28.578610Z"
    },
    "papermill": {
     "duration": 0.379102,
     "end_time": "2024-09-04T10:16:28.582223",
     "exception": false,
     "start_time": "2024-09-04T10:16:28.203121",
     "status": "completed"
    },
    "tags": []
   },
   "outputs": [
    {
     "data": {
      "text/plain": [
       "<Axes: >"
      ]
     },
     "execution_count": 29,
     "metadata": {},
     "output_type": "execute_result"
    },
    {
     "data": {
      "image/png": "[encoded data removed]",
      "text/plain": [
       "<Figure size 640x480 with 1 Axes>"
      ]
     },
     "metadata": {},
     "output_type": "display_data"
    }
   ],
   "source": [
    "df['Purchase'].hist()"
   ]
  },
  {
   "cell_type": "code",
   "execution_count": 30,
   "id": "50dd4c81",
   "metadata": {
    "execution": {
     "iopub.execute_input": "2024-09-04T10:16:28.617611Z",
     "iopub.status.busy": "2024-09-04T10:16:28.616618Z",
     "iopub.status.idle": "2024-09-04T10:16:31.196342Z",
     "shell.execute_reply": "2024-09-04T10:16:31.195096Z"
    },
    "papermill": {
     "duration": 2.600372,
     "end_time": "2024-09-04T10:16:31.199160",
     "exception": false,
     "start_time": "2024-09-04T10:16:28.598788",
     "status": "completed"
    },
    "tags": []
   },
   "outputs": [
    {
     "data": {
      "image/png": "[encoded data removed]",
      "text/plain": [
       "<Figure size 640x480 with 2 Axes>"
      ]
     },
     "metadata": {},
     "output_type": "display_data"
    }
   ],
   "source": [
    "import seaborn as sns\n",
    "\n",
    "# Define the variables corr and mask\n",
    "corr = df.corr()\n",
    "mask = np.triu(np.ones_like(corr, dtype=bool))\n",
    "\n",
    "# Generate a custom dark diverging colormap\n",
    "cmap = sns.diverging_palette(250, 15, s=75, l=40, n=9, center=\"dark\", as_cmap=True)\n",
    "\n",
    "# Draw the heatmap with the mask and correct aspect ratio\n",
    "sns.heatmap(corr, mask=mask, cmap=cmap, vmax=.3, center=0,\n",
    "            square=True, linewidths=.5, cbar_kws={\"shrink\": .5})\n",
    "\n",
    "plt.show()"
   ]
  },
  {
   "cell_type": "code",
   "execution_count": 31,
   "id": "3033579e",
   "metadata": {
    "execution": {
     "iopub.execute_input": "2024-09-04T10:16:31.237488Z",
     "iopub.status.busy": "2024-09-04T10:16:31.237097Z",
     "iopub.status.idle": "2024-09-04T10:16:31.242208Z",
     "shell.execute_reply": "2024-09-04T10:16:31.240912Z"
    },
    "papermill": {
     "duration": 0.027609,
     "end_time": "2024-09-04T10:16:31.244821",
     "exception": false,
     "start_time": "2024-09-04T10:16:31.217212",
     "status": "completed"
    },
    "tags": []
   },
   "outputs": [],
   "source": [
    "y= df['Purchase']"
   ]
  },
  {
   "cell_type": "code",
   "execution_count": 32,
   "id": "0a629162",
   "metadata": {
    "execution": {
     "iopub.execute_input": "2024-09-04T10:16:31.280480Z",
     "iopub.status.busy": "2024-09-04T10:16:31.280102Z",
     "iopub.status.idle": "2024-09-04T10:16:31.289696Z",
     "shell.execute_reply": "2024-09-04T10:16:31.288309Z"
    },
    "papermill": {
     "duration": 0.030256,
     "end_time": "2024-09-04T10:16:31.292222",
     "exception": false,
     "start_time": "2024-09-04T10:16:31.261966",
     "status": "completed"
    },
    "tags": []
   },
   "outputs": [
    {
     "data": {
      "text/plain": [
       "0          91.487704\n",
       "1         123.288280\n",
       "2          37.709415\n",
       "3          32.511536\n",
       "4          89.269256\n",
       "             ...    \n",
       "550063     19.183326\n",
       "550064     19.261360\n",
       "550065     11.704700\n",
       "550066     19.104973\n",
       "550067     22.135944\n",
       "Name: Purchase, Length: 550068, dtype: float64"
      ]
     },
     "execution_count": 32,
     "metadata": {},
     "output_type": "execute_result"
    }
   ],
   "source": [
    "y"
   ]
  },
  {
   "cell_type": "code",
   "execution_count": 33,
   "id": "a3890f48",
   "metadata": {
    "execution": {
     "iopub.execute_input": "2024-09-04T10:16:31.333564Z",
     "iopub.status.busy": "2024-09-04T10:16:31.333157Z",
     "iopub.status.idle": "2024-09-04T10:16:31.445979Z",
     "shell.execute_reply": "2024-09-04T10:16:31.444676Z"
    },
    "papermill": {
     "duration": 0.13735,
     "end_time": "2024-09-04T10:16:31.449106",
     "exception": false,
     "start_time": "2024-09-04T10:16:31.311756",
     "status": "completed"
    },
    "tags": []
   },
   "outputs": [],
   "source": [
    "X_train, X_test, y_train, y_test = train_test_split(X, y, test_size= 0.2, random_state=42)"
   ]
  },
  {
   "cell_type": "code",
   "execution_count": 34,
   "id": "76b9fe9b",
   "metadata": {
    "execution": {
     "iopub.execute_input": "2024-09-04T10:16:31.486549Z",
     "iopub.status.busy": "2024-09-04T10:16:31.485519Z",
     "iopub.status.idle": "2024-09-04T10:16:31.496010Z",
     "shell.execute_reply": "2024-09-04T10:16:31.494863Z"
    },
    "papermill": {
     "duration": 0.032836,
     "end_time": "2024-09-04T10:16:31.499447",
     "exception": false,
     "start_time": "2024-09-04T10:16:31.466611",
     "status": "completed"
    },
    "tags": []
   },
   "outputs": [
    {
     "name": "stdout",
     "output_type": "stream",
     "text": [
      "        Gender  Age  Occupation  City_Category  Stay_In_Current_City_Years  \\\n",
      "178247       1    5           7              1                           3   \n",
      "196647       1    1          12              2                           4   \n",
      "418590       1    2           5              1                           1   \n",
      "408727       1    1           4              1                           2   \n",
      "216416       1    1           4              1                           1   \n",
      "...        ...  ...         ...            ...                         ...   \n",
      "110268       1    4          17              2                           2   \n",
      "259178       1    2          14              2                           2   \n",
      "365838       0    1           1              1                           1   \n",
      "131932       0    1           4              1                           2   \n",
      "121958       0    1           2              0                           2   \n",
      "\n",
      "        Marital_Status  Product_Category_1  Product_Category_2  \\\n",
      "178247               1                   1                15.0   \n",
      "196647               0                   5                 8.0   \n",
      "418590               0                   8                14.0   \n",
      "408727               0                   8                 8.0   \n",
      "216416               0                   1                 8.0   \n",
      "...                ...                 ...                 ...   \n",
      "110268               0                   5                 8.0   \n",
      "259178               1                   5                 8.0   \n",
      "365838               0                   5                 8.0   \n",
      "131932               0                   8                14.0   \n",
      "121958               1                   5                14.0   \n",
      "\n",
      "        Product_Category_3  \n",
      "178247                16.0  \n",
      "196647                16.0  \n",
      "418590                17.0  \n",
      "408727                16.0  \n",
      "216416                16.0  \n",
      "...                    ...  \n",
      "110268                16.0  \n",
      "259178                16.0  \n",
      "365838                16.0  \n",
      "131932                16.0  \n",
      "121958                16.0  \n",
      "\n",
      "[440054 rows x 9 columns]\n"
     ]
    }
   ],
   "source": [
    "print(X_train)"
   ]
  },
  {
   "cell_type": "code",
   "execution_count": 35,
   "id": "f7bbf137",
   "metadata": {
    "execution": {
     "iopub.execute_input": "2024-09-04T10:16:31.535269Z",
     "iopub.status.busy": "2024-09-04T10:16:31.534883Z",
     "iopub.status.idle": "2024-09-04T10:16:31.544858Z",
     "shell.execute_reply": "2024-09-04T10:16:31.543851Z"
    },
    "papermill": {
     "duration": 0.030406,
     "end_time": "2024-09-04T10:16:31.547111",
     "exception": false,
     "start_time": "2024-09-04T10:16:31.516705",
     "status": "completed"
    },
    "tags": []
   },
   "outputs": [
    {
     "name": "stdout",
     "output_type": "stream",
     "text": [
      "        Gender  Age  Occupation  City_Category  Stay_In_Current_City_Years  \\\n",
      "84432        1    5          19              2                           3   \n",
      "72724        0    3          11              1                           1   \n",
      "197032       0    3           0              0                           2   \n",
      "353704       1    1           4              0                           3   \n",
      "91198        1    1           4              1                           0   \n",
      "...        ...  ...         ...            ...                         ...   \n",
      "133324       1    6          13              1                           2   \n",
      "138718       0    2           4              1                           3   \n",
      "22886        1    3          20              0                           2   \n",
      "137110       1    3           7              0                           0   \n",
      "515193       0    0          10              0                           3   \n",
      "\n",
      "        Marital_Status  Product_Category_1  Product_Category_2  \\\n",
      "84432                0                   1                 2.0   \n",
      "72724                0                   1                15.0   \n",
      "197032               1                   8                15.0   \n",
      "353704               0                   1                15.0   \n",
      "91198                0                   6                 8.0   \n",
      "...                ...                 ...                 ...   \n",
      "133324               1                   1                 2.0   \n",
      "138718               0                   8                14.0   \n",
      "22886                1                   8                 8.0   \n",
      "137110               0                  11                13.0   \n",
      "515193               0                   3                 4.0   \n",
      "\n",
      "        Product_Category_3  \n",
      "84432                 16.0  \n",
      "72724                 16.0  \n",
      "197032                16.0  \n",
      "353704                16.0  \n",
      "91198                 16.0  \n",
      "...                    ...  \n",
      "133324                16.0  \n",
      "138718                16.0  \n",
      "22886                 16.0  \n",
      "137110                16.0  \n",
      "515193                16.0  \n",
      "\n",
      "[110014 rows x 9 columns]\n"
     ]
    }
   ],
   "source": [
    "print(X_test)"
   ]
  },
  {
   "cell_type": "code",
   "execution_count": 36,
   "id": "e7b4d0f6",
   "metadata": {
    "execution": {
     "iopub.execute_input": "2024-09-04T10:16:31.584477Z",
     "iopub.status.busy": "2024-09-04T10:16:31.583454Z",
     "iopub.status.idle": "2024-09-04T10:16:31.590723Z",
     "shell.execute_reply": "2024-09-04T10:16:31.589549Z"
    },
    "papermill": {
     "duration": 0.028297,
     "end_time": "2024-09-04T10:16:31.593126",
     "exception": false,
     "start_time": "2024-09-04T10:16:31.564829",
     "status": "completed"
    },
    "tags": []
   },
   "outputs": [
    {
     "name": "stdout",
     "output_type": "stream",
     "text": [
      "178247     88.317609\n",
      "196647     93.150416\n",
      "418590     89.252451\n",
      "408727     99.257242\n",
      "216416    125.713961\n",
      "             ...    \n",
      "110268     43.150898\n",
      "259178     92.860110\n",
      "365838     83.390647\n",
      "131932     78.428311\n",
      "121958     84.534017\n",
      "Name: Purchase, Length: 440054, dtype: float64\n"
     ]
    }
   ],
   "source": [
    "print(y_train)"
   ]
  },
  {
   "cell_type": "code",
   "execution_count": 37,
   "id": "86515577",
   "metadata": {
    "execution": {
     "iopub.execute_input": "2024-09-04T10:16:31.629335Z",
     "iopub.status.busy": "2024-09-04T10:16:31.628937Z",
     "iopub.status.idle": "2024-09-04T10:16:31.636123Z",
     "shell.execute_reply": "2024-09-04T10:16:31.634846Z"
    },
    "papermill": {
     "duration": 0.028706,
     "end_time": "2024-09-04T10:16:31.639185",
     "exception": false,
     "start_time": "2024-09-04T10:16:31.610479",
     "status": "completed"
    },
    "tags": []
   },
   "outputs": [
    {
     "name": "stdout",
     "output_type": "stream",
     "text": [
      "84432     138.354617\n",
      "72724     124.551194\n",
      "197032     88.328931\n",
      "353704    124.318140\n",
      "91198      67.022384\n",
      "             ...    \n",
      "133324    138.343775\n",
      "138718     88.634079\n",
      "22886      63.537391\n",
      "137110     86.411805\n",
      "515193     89.453899\n",
      "Name: Purchase, Length: 110014, dtype: float64\n"
     ]
    }
   ],
   "source": [
    "print(y_test)"
   ]
  },
  {
   "cell_type": "code",
   "execution_count": 38,
   "id": "15449046",
   "metadata": {
    "execution": {
     "iopub.execute_input": "2024-09-04T10:16:31.680777Z",
     "iopub.status.busy": "2024-09-04T10:16:31.680367Z",
     "iopub.status.idle": "2024-09-04T10:16:31.691331Z",
     "shell.execute_reply": "2024-09-04T10:16:31.689969Z"
    },
    "papermill": {
     "duration": 0.03357,
     "end_time": "2024-09-04T10:16:31.694347",
     "exception": false,
     "start_time": "2024-09-04T10:16:31.660777",
     "status": "completed"
    },
    "tags": []
   },
   "outputs": [
    {
     "name": "stdout",
     "output_type": "stream",
     "text": [
      "        Gender  Age  Occupation  City_Category  Stay_In_Current_City_Years  \\\n",
      "178247       1    5           7              1                           3   \n",
      "196647       1    1          12              2                           4   \n",
      "418590       1    2           5              1                           1   \n",
      "408727       1    1           4              1                           2   \n",
      "216416       1    1           4              1                           1   \n",
      "...        ...  ...         ...            ...                         ...   \n",
      "110268       1    4          17              2                           2   \n",
      "259178       1    2          14              2                           2   \n",
      "365838       0    1           1              1                           1   \n",
      "131932       0    1           4              1                           2   \n",
      "121958       0    1           2              0                           2   \n",
      "\n",
      "        Marital_Status  Product_Category_1  Product_Category_2  \\\n",
      "178247               1                   1                15.0   \n",
      "196647               0                   5                 8.0   \n",
      "418590               0                   8                14.0   \n",
      "408727               0                   8                 8.0   \n",
      "216416               0                   1                 8.0   \n",
      "...                ...                 ...                 ...   \n",
      "110268               0                   5                 8.0   \n",
      "259178               1                   5                 8.0   \n",
      "365838               0                   5                 8.0   \n",
      "131932               0                   8                14.0   \n",
      "121958               1                   5                14.0   \n",
      "\n",
      "        Product_Category_3  \n",
      "178247                16.0  \n",
      "196647                16.0  \n",
      "418590                17.0  \n",
      "408727                16.0  \n",
      "216416                16.0  \n",
      "...                    ...  \n",
      "110268                16.0  \n",
      "259178                16.0  \n",
      "365838                16.0  \n",
      "131932                16.0  \n",
      "121958                16.0  \n",
      "\n",
      "[440054 rows x 9 columns]\n"
     ]
    }
   ],
   "source": [
    "print(X_train)"
   ]
  },
  {
   "cell_type": "code",
   "execution_count": 39,
   "id": "19b4e350",
   "metadata": {
    "execution": {
     "iopub.execute_input": "2024-09-04T10:16:31.731561Z",
     "iopub.status.busy": "2024-09-04T10:16:31.731151Z",
     "iopub.status.idle": "2024-09-04T10:16:31.742543Z",
     "shell.execute_reply": "2024-09-04T10:16:31.741352Z"
    },
    "papermill": {
     "duration": 0.033436,
     "end_time": "2024-09-04T10:16:31.745400",
     "exception": false,
     "start_time": "2024-09-04T10:16:31.711964",
     "status": "completed"
    },
    "tags": []
   },
   "outputs": [
    {
     "name": "stdout",
     "output_type": "stream",
     "text": [
      "        Gender  Age  Occupation  City_Category  Stay_In_Current_City_Years  \\\n",
      "84432        1    5          19              2                           3   \n",
      "72724        0    3          11              1                           1   \n",
      "197032       0    3           0              0                           2   \n",
      "353704       1    1           4              0                           3   \n",
      "91198        1    1           4              1                           0   \n",
      "...        ...  ...         ...            ...                         ...   \n",
      "133324       1    6          13              1                           2   \n",
      "138718       0    2           4              1                           3   \n",
      "22886        1    3          20              0                           2   \n",
      "137110       1    3           7              0                           0   \n",
      "515193       0    0          10              0                           3   \n",
      "\n",
      "        Marital_Status  Product_Category_1  Product_Category_2  \\\n",
      "84432                0                   1                 2.0   \n",
      "72724                0                   1                15.0   \n",
      "197032               1                   8                15.0   \n",
      "353704               0                   1                15.0   \n",
      "91198                0                   6                 8.0   \n",
      "...                ...                 ...                 ...   \n",
      "133324               1                   1                 2.0   \n",
      "138718               0                   8                14.0   \n",
      "22886                1                   8                 8.0   \n",
      "137110               0                  11                13.0   \n",
      "515193               0                   3                 4.0   \n",
      "\n",
      "        Product_Category_3  \n",
      "84432                 16.0  \n",
      "72724                 16.0  \n",
      "197032                16.0  \n",
      "353704                16.0  \n",
      "91198                 16.0  \n",
      "...                    ...  \n",
      "133324                16.0  \n",
      "138718                16.0  \n",
      "22886                 16.0  \n",
      "137110                16.0  \n",
      "515193                16.0  \n",
      "\n",
      "[110014 rows x 9 columns]\n"
     ]
    }
   ],
   "source": [
    "print(X_test)"
   ]
  },
  {
   "cell_type": "code",
   "execution_count": 40,
   "id": "e87cef37",
   "metadata": {
    "execution": {
     "iopub.execute_input": "2024-09-04T10:16:31.797576Z",
     "iopub.status.busy": "2024-09-04T10:16:31.796792Z",
     "iopub.status.idle": "2024-09-04T10:16:31.801701Z",
     "shell.execute_reply": "2024-09-04T10:16:31.800571Z"
    },
    "papermill": {
     "duration": 0.035374,
     "end_time": "2024-09-04T10:16:31.804808",
     "exception": false,
     "start_time": "2024-09-04T10:16:31.769434",
     "status": "completed"
    },
    "tags": []
   },
   "outputs": [],
   "source": [
    "from sklearn.metrics import accuracy_score"
   ]
  },
  {
   "cell_type": "code",
   "execution_count": 41,
   "id": "e8a7670a",
   "metadata": {
    "execution": {
     "iopub.execute_input": "2024-09-04T10:16:31.849413Z",
     "iopub.status.busy": "2024-09-04T10:16:31.849010Z",
     "iopub.status.idle": "2024-09-04T10:16:31.853941Z",
     "shell.execute_reply": "2024-09-04T10:16:31.852872Z"
    },
    "papermill": {
     "duration": 0.027961,
     "end_time": "2024-09-04T10:16:31.856288",
     "exception": false,
     "start_time": "2024-09-04T10:16:31.828327",
     "status": "completed"
    },
    "tags": []
   },
   "outputs": [],
   "source": [
    "friday_lr = LinearRegression()"
   ]
  },
  {
   "cell_type": "code",
   "execution_count": 42,
   "id": "d891a3b2",
   "metadata": {
    "execution": {
     "iopub.execute_input": "2024-09-04T10:16:31.893726Z",
     "iopub.status.busy": "2024-09-04T10:16:31.893339Z",
     "iopub.status.idle": "2024-09-04T10:16:32.184869Z",
     "shell.execute_reply": "2024-09-04T10:16:32.183728Z"
    },
    "papermill": {
     "duration": 0.314231,
     "end_time": "2024-09-04T10:16:32.188156",
     "exception": false,
     "start_time": "2024-09-04T10:16:31.873925",
     "status": "completed"
    },
    "tags": []
   },
   "outputs": [
    {
     "name": "stdout",
     "output_type": "stream",
     "text": [
      "Linear Regression on trained data = 0.160298258554311\n"
     ]
    }
   ],
   "source": [
    "friday_lr.fit(X_train, y_train)\n",
    "friday_lr= friday_lr.score(X_train, y_train)\n",
    "print('Linear Regression on trained data =', friday_lr)"
   ]
  },
  {
   "cell_type": "code",
   "execution_count": 43,
   "id": "a4799180",
   "metadata": {
    "execution": {
     "iopub.execute_input": "2024-09-04T10:16:32.279123Z",
     "iopub.status.busy": "2024-09-04T10:16:32.278545Z",
     "iopub.status.idle": "2024-09-04T10:16:32.485826Z",
     "shell.execute_reply": "2024-09-04T10:16:32.484359Z"
    },
    "papermill": {
     "duration": 0.249264,
     "end_time": "2024-09-04T10:16:32.489124",
     "exception": false,
     "start_time": "2024-09-04T10:16:32.239860",
     "status": "completed"
    },
    "tags": []
   },
   "outputs": [
    {
     "name": "stdout",
     "output_type": "stream",
     "text": [
      "Linear Regression on test data = 0.15812166194754262\n"
     ]
    }
   ],
   "source": [
    "# Assuming friday_lr is your linear regression model\n",
    "friday_lr = LinearRegression()\n",
    "friday_lr.fit(X_train, y_train)  # You should fit the model on the training data, not the test data\n",
    "\n",
    "# Calculate the score of the model on the test data\n",
    "score = friday_lr.score(X_test, y_test)\n",
    "\n",
    "print('Linear Regression on test data =', score)"
   ]
  },
  {
   "cell_type": "code",
   "execution_count": 44,
   "id": "b90b97ea",
   "metadata": {
    "execution": {
     "iopub.execute_input": "2024-09-04T10:16:32.588139Z",
     "iopub.status.busy": "2024-09-04T10:16:32.587611Z",
     "iopub.status.idle": "2024-09-04T10:16:32.620009Z",
     "shell.execute_reply": "2024-09-04T10:16:32.618813Z"
    },
    "papermill": {
     "duration": 0.080808,
     "end_time": "2024-09-04T10:16:32.623214",
     "exception": false,
     "start_time": "2024-09-04T10:16:32.542406",
     "status": "completed"
    },
    "tags": []
   },
   "outputs": [],
   "source": [
    "y_predict_train = friday_lr.predict(X_train)\n",
    "y_predict_test = friday_lr.predict(X_test)"
   ]
  },
  {
   "cell_type": "code",
   "execution_count": 45,
   "id": "79aa2909",
   "metadata": {
    "execution": {
     "iopub.execute_input": "2024-09-04T10:16:32.688440Z",
     "iopub.status.busy": "2024-09-04T10:16:32.687925Z",
     "iopub.status.idle": "2024-09-04T10:16:32.702854Z",
     "shell.execute_reply": "2024-09-04T10:16:32.701689Z"
    },
    "papermill": {
     "duration": 0.052848,
     "end_time": "2024-09-04T10:16:32.706525",
     "exception": false,
     "start_time": "2024-09-04T10:16:32.653677",
     "status": "completed"
    },
    "tags": []
   },
   "outputs": [
    {
     "data": {
      "text/plain": [
       "622.2542875141918"
      ]
     },
     "execution_count": 45,
     "metadata": {},
     "output_type": "execute_result"
    }
   ],
   "source": [
    "mse_train = mean_squared_error(y_train, y_predict_train)\n",
    "mse_train"
   ]
  },
  {
   "cell_type": "code",
   "execution_count": 46,
   "id": "6a675c4c",
   "metadata": {
    "execution": {
     "iopub.execute_input": "2024-09-04T10:16:32.758557Z",
     "iopub.status.busy": "2024-09-04T10:16:32.758173Z",
     "iopub.status.idle": "2024-09-04T10:16:32.766370Z",
     "shell.execute_reply": "2024-09-04T10:16:32.765390Z"
    },
    "papermill": {
     "duration": 0.031705,
     "end_time": "2024-09-04T10:16:32.768546",
     "exception": false,
     "start_time": "2024-09-04T10:16:32.736841",
     "status": "completed"
    },
    "tags": []
   },
   "outputs": [
    {
     "data": {
      "text/plain": [
       "619.4115592681668"
      ]
     },
     "execution_count": 46,
     "metadata": {},
     "output_type": "execute_result"
    }
   ],
   "source": [
    "mse_test = mean_squared_error(y_test, y_predict_test)\n",
    "mse_test"
   ]
  },
  {
   "cell_type": "code",
   "execution_count": 47,
   "id": "cbecaf95",
   "metadata": {
    "execution": {
     "iopub.execute_input": "2024-09-04T10:16:32.807898Z",
     "iopub.status.busy": "2024-09-04T10:16:32.807116Z",
     "iopub.status.idle": "2024-09-04T10:16:32.813900Z",
     "shell.execute_reply": "2024-09-04T10:16:32.812778Z"
    },
    "papermill": {
     "duration": 0.028958,
     "end_time": "2024-09-04T10:16:32.816373",
     "exception": false,
     "start_time": "2024-09-04T10:16:32.787415",
     "status": "completed"
    },
    "tags": []
   },
   "outputs": [
    {
     "data": {
      "text/plain": [
       "24.945025305944107"
      ]
     },
     "execution_count": 47,
     "metadata": {},
     "output_type": "execute_result"
    }
   ],
   "source": [
    "rmse_train = np.sqrt(mse_train)\n",
    "rmse_train"
   ]
  },
  {
   "cell_type": "code",
   "execution_count": 48,
   "id": "6679fc74",
   "metadata": {
    "execution": {
     "iopub.execute_input": "2024-09-04T10:16:32.855901Z",
     "iopub.status.busy": "2024-09-04T10:16:32.854686Z",
     "iopub.status.idle": "2024-09-04T10:16:32.862686Z",
     "shell.execute_reply": "2024-09-04T10:16:32.861397Z"
    },
    "papermill": {
     "duration": 0.029609,
     "end_time": "2024-09-04T10:16:32.865013",
     "exception": false,
     "start_time": "2024-09-04T10:16:32.835404",
     "status": "completed"
    },
    "tags": []
   },
   "outputs": [
    {
     "data": {
      "text/plain": [
       "24.887980216726444"
      ]
     },
     "execution_count": 48,
     "metadata": {},
     "output_type": "execute_result"
    }
   ],
   "source": [
    "rmse_test = np.sqrt(mse_test)\n",
    "rmse_test"
   ]
  },
  {
   "cell_type": "code",
   "execution_count": 49,
   "id": "206f82c2",
   "metadata": {
    "execution": {
     "iopub.execute_input": "2024-09-04T10:16:32.904367Z",
     "iopub.status.busy": "2024-09-04T10:16:32.903960Z",
     "iopub.status.idle": "2024-09-04T10:16:32.917184Z",
     "shell.execute_reply": "2024-09-04T10:16:32.916109Z"
    },
    "papermill": {
     "duration": 0.036424,
     "end_time": "2024-09-04T10:16:32.919714",
     "exception": false,
     "start_time": "2024-09-04T10:16:32.883290",
     "status": "completed"
    },
    "tags": []
   },
   "outputs": [
    {
     "data": {
      "text/html": [
       "<div>\n",
       "<style scoped>\n",
       "    .dataframe tbody tr th:only-of-type {\n",
       "        vertical-align: middle;\n",
       "    }\n",
       "\n",
       "    .dataframe tbody tr th {\n",
       "        vertical-align: top;\n",
       "    }\n",
       "\n",
       "    .dataframe thead th {\n",
       "        text-align: right;\n",
       "    }\n",
       "</style>\n",
       "<table border=\"1\" class=\"dataframe\">\n",
       "  <thead>\n",
       "    <tr style=\"text-align: right;\">\n",
       "      <th></th>\n",
       "      <th>Y Prediction</th>\n",
       "      <th>Y Actual</th>\n",
       "    </tr>\n",
       "  </thead>\n",
       "  <tbody>\n",
       "    <tr>\n",
       "      <th>0</th>\n",
       "      <td>106.965867</td>\n",
       "      <td>138.354617</td>\n",
       "    </tr>\n",
       "    <tr>\n",
       "      <th>1</th>\n",
       "      <td>101.764242</td>\n",
       "      <td>124.551194</td>\n",
       "    </tr>\n",
       "    <tr>\n",
       "      <th>2</th>\n",
       "      <td>81.788825</td>\n",
       "      <td>88.328931</td>\n",
       "    </tr>\n",
       "    <tr>\n",
       "      <th>3</th>\n",
       "      <td>101.056708</td>\n",
       "      <td>124.318140</td>\n",
       "    </tr>\n",
       "    <tr>\n",
       "      <th>4</th>\n",
       "      <td>89.421974</td>\n",
       "      <td>67.022384</td>\n",
       "    </tr>\n",
       "    <tr>\n",
       "      <th>5</th>\n",
       "      <td>91.473123</td>\n",
       "      <td>83.456576</td>\n",
       "    </tr>\n",
       "    <tr>\n",
       "      <th>6</th>\n",
       "      <td>92.552868</td>\n",
       "      <td>93.610897</td>\n",
       "    </tr>\n",
       "    <tr>\n",
       "      <th>7</th>\n",
       "      <td>100.697437</td>\n",
       "      <td>139.093494</td>\n",
       "    </tr>\n",
       "    <tr>\n",
       "      <th>8</th>\n",
       "      <td>96.392532</td>\n",
       "      <td>83.767535</td>\n",
       "    </tr>\n",
       "    <tr>\n",
       "      <th>9</th>\n",
       "      <td>104.563879</td>\n",
       "      <td>124.875938</td>\n",
       "    </tr>\n",
       "  </tbody>\n",
       "</table>\n",
       "</div>"
      ],
      "text/plain": [
       "    Y Prediction    Y Actual\n",
       "0     106.965867  138.354617\n",
       "1     101.764242  124.551194\n",
       "2      81.788825   88.328931\n",
       "3     101.056708  124.318140\n",
       "4      89.421974   67.022384\n",
       "5      91.473123   83.456576\n",
       "6      92.552868   93.610897\n",
       "7     100.697437  139.093494\n",
       "8      96.392532   83.767535\n",
       "9     104.563879  124.875938"
      ]
     },
     "execution_count": 49,
     "metadata": {},
     "output_type": "execute_result"
    }
   ],
   "source": [
    "df = pd.DataFrame({\" Y Prediction\": y_predict_test,\n",
    "                   \"Y Actual\": y_test}).reset_index(drop=True)\n",
    "df.head(10)"
   ]
  },
  {
   "cell_type": "code",
   "execution_count": 50,
   "id": "ab36a296",
   "metadata": {
    "execution": {
     "iopub.execute_input": "2024-09-04T10:16:32.959216Z",
     "iopub.status.busy": "2024-09-04T10:16:32.958190Z",
     "iopub.status.idle": "2024-09-04T10:16:33.297364Z",
     "shell.execute_reply": "2024-09-04T10:16:33.296130Z"
    },
    "papermill": {
     "duration": 0.362138,
     "end_time": "2024-09-04T10:16:33.300449",
     "exception": false,
     "start_time": "2024-09-04T10:16:32.938311",
     "status": "completed"
    },
    "tags": []
   },
   "outputs": [
    {
     "data": {
      "text/plain": [
       "<matplotlib.legend.Legend at 0x798393f56140>"
      ]
     },
     "execution_count": 50,
     "metadata": {},
     "output_type": "execute_result"
    },
    {
     "data": {
      "image/png": "[encoded data removed]",
      "text/plain": [
       "<Figure size 1500x800 with 1 Axes>"
      ]
     },
     "metadata": {},
     "output_type": "display_data"
    }
   ],
   "source": [
    "plt.figure(figsize = (15,8))\n",
    "plt.plot(df[:50])\n",
    "plt.legend([\"Y Prediction\", \"Y Actual\"])"
   ]
  },
  {
   "cell_type": "code",
   "execution_count": 51,
   "id": "38a850bc",
   "metadata": {
    "execution": {
     "iopub.execute_input": "2024-09-04T10:16:33.342723Z",
     "iopub.status.busy": "2024-09-04T10:16:33.342316Z",
     "iopub.status.idle": "2024-09-04T10:18:50.625038Z",
     "shell.execute_reply": "2024-09-04T10:18:50.623915Z"
    },
    "papermill": {
     "duration": 137.327288,
     "end_time": "2024-09-04T10:18:50.648007",
     "exception": false,
     "start_time": "2024-09-04T10:16:33.320719",
     "status": "completed"
    },
    "tags": []
   },
   "outputs": [
    {
     "data": {
      "text/plain": [
       "0.7872181476034679"
      ]
     },
     "execution_count": 51,
     "metadata": {},
     "output_type": "execute_result"
    }
   ],
   "source": [
    "from sklearn.ensemble import RandomForestRegressor\n",
    "rfr = RandomForestRegressor()\n",
    "rfr.fit(X_train, y_train)\n",
    "\n",
    "rfr.score(X_train, y_train)"
   ]
  },
  {
   "cell_type": "code",
   "execution_count": 52,
   "id": "f996684b",
   "metadata": {
    "execution": {
     "iopub.execute_input": "2024-09-04T10:18:50.689777Z",
     "iopub.status.busy": "2024-09-04T10:18:50.689379Z",
     "iopub.status.idle": "2024-09-04T10:18:56.245453Z",
     "shell.execute_reply": "2024-09-04T10:18:56.244402Z"
    },
    "papermill": {
     "duration": 5.580261,
     "end_time": "2024-09-04T10:18:56.248258",
     "exception": false,
     "start_time": "2024-09-04T10:18:50.667997",
     "status": "completed"
    },
    "tags": []
   },
   "outputs": [
    {
     "data": {
      "text/plain": [
       "0.6564692043426047"
      ]
     },
     "execution_count": 52,
     "metadata": {},
     "output_type": "execute_result"
    }
   ],
   "source": [
    "rfr.score(X_test, y_test)"
   ]
  },
  {
   "cell_type": "code",
   "execution_count": 53,
   "id": "0c09e4a3",
   "metadata": {
    "execution": {
     "iopub.execute_input": "2024-09-04T10:18:56.294091Z",
     "iopub.status.busy": "2024-09-04T10:18:56.293437Z",
     "iopub.status.idle": "2024-09-04T10:19:02.024739Z",
     "shell.execute_reply": "2024-09-04T10:19:02.021935Z"
    },
    "papermill": {
     "duration": 5.7588,
     "end_time": "2024-09-04T10:19:02.028581",
     "exception": false,
     "start_time": "2024-09-04T10:18:56.269781",
     "status": "completed"
    },
    "tags": []
   },
   "outputs": [],
   "source": [
    "y_predict_test = rfr.predict(X_test)"
   ]
  },
  {
   "cell_type": "code",
   "execution_count": 54,
   "id": "24972195",
   "metadata": {
    "execution": {
     "iopub.execute_input": "2024-09-04T10:19:02.091802Z",
     "iopub.status.busy": "2024-09-04T10:19:02.091077Z",
     "iopub.status.idle": "2024-09-04T10:19:02.112041Z",
     "shell.execute_reply": "2024-09-04T10:19:02.110201Z"
    },
    "papermill": {
     "duration": 0.058582,
     "end_time": "2024-09-04T10:19:02.114914",
     "exception": false,
     "start_time": "2024-09-04T10:19:02.056332",
     "status": "completed"
    },
    "tags": []
   },
   "outputs": [
    {
     "data": {
      "text/html": [
       "<div>\n",
       "<style scoped>\n",
       "    .dataframe tbody tr th:only-of-type {\n",
       "        vertical-align: middle;\n",
       "    }\n",
       "\n",
       "    .dataframe tbody tr th {\n",
       "        vertical-align: top;\n",
       "    }\n",
       "\n",
       "    .dataframe thead th {\n",
       "        text-align: right;\n",
       "    }\n",
       "</style>\n",
       "<table border=\"1\" class=\"dataframe\">\n",
       "  <thead>\n",
       "    <tr style=\"text-align: right;\">\n",
       "      <th></th>\n",
       "      <th>Y Prediction</th>\n",
       "      <th>Y Actual</th>\n",
       "    </tr>\n",
       "  </thead>\n",
       "  <tbody>\n",
       "    <tr>\n",
       "      <th>0</th>\n",
       "      <td>117.717788</td>\n",
       "      <td>138.354617</td>\n",
       "    </tr>\n",
       "    <tr>\n",
       "      <th>1</th>\n",
       "      <td>113.254023</td>\n",
       "      <td>124.551194</td>\n",
       "    </tr>\n",
       "    <tr>\n",
       "      <th>2</th>\n",
       "      <td>82.165922</td>\n",
       "      <td>88.328931</td>\n",
       "    </tr>\n",
       "    <tr>\n",
       "      <th>3</th>\n",
       "      <td>116.518085</td>\n",
       "      <td>124.318140</td>\n",
       "    </tr>\n",
       "    <tr>\n",
       "      <th>4</th>\n",
       "      <td>123.919759</td>\n",
       "      <td>67.022384</td>\n",
       "    </tr>\n",
       "    <tr>\n",
       "      <th>5</th>\n",
       "      <td>73.633188</td>\n",
       "      <td>83.456576</td>\n",
       "    </tr>\n",
       "    <tr>\n",
       "      <th>6</th>\n",
       "      <td>65.484477</td>\n",
       "      <td>93.610897</td>\n",
       "    </tr>\n",
       "    <tr>\n",
       "      <th>7</th>\n",
       "      <td>124.675649</td>\n",
       "      <td>139.093494</td>\n",
       "    </tr>\n",
       "    <tr>\n",
       "      <th>8</th>\n",
       "      <td>67.618470</td>\n",
       "      <td>83.767535</td>\n",
       "    </tr>\n",
       "    <tr>\n",
       "      <th>9</th>\n",
       "      <td>104.348214</td>\n",
       "      <td>124.875938</td>\n",
       "    </tr>\n",
       "  </tbody>\n",
       "</table>\n",
       "</div>"
      ],
      "text/plain": [
       "    Y Prediction    Y Actual\n",
       "0     117.717788  138.354617\n",
       "1     113.254023  124.551194\n",
       "2      82.165922   88.328931\n",
       "3     116.518085  124.318140\n",
       "4     123.919759   67.022384\n",
       "5      73.633188   83.456576\n",
       "6      65.484477   93.610897\n",
       "7     124.675649  139.093494\n",
       "8      67.618470   83.767535\n",
       "9     104.348214  124.875938"
      ]
     },
     "execution_count": 54,
     "metadata": {},
     "output_type": "execute_result"
    }
   ],
   "source": [
    "df = pd.DataFrame({\" Y Prediction\": y_predict_test,\n",
    "                   \"Y Actual\": y_test}).reset_index(drop=True)\n",
    "df.head(10)"
   ]
  },
  {
   "cell_type": "code",
   "execution_count": 55,
   "id": "7ad90d8e",
   "metadata": {
    "execution": {
     "iopub.execute_input": "2024-09-04T10:19:02.169452Z",
     "iopub.status.busy": "2024-09-04T10:19:02.167916Z",
     "iopub.status.idle": "2024-09-04T10:19:02.554239Z",
     "shell.execute_reply": "2024-09-04T10:19:02.552395Z"
    },
    "papermill": {
     "duration": 0.416565,
     "end_time": "2024-09-04T10:19:02.556565",
     "exception": false,
     "start_time": "2024-09-04T10:19:02.140000",
     "status": "completed"
    },
    "tags": []
   },
   "outputs": [
    {
     "data": {
      "text/plain": [
       "<matplotlib.legend.Legend at 0x798393f55f90>"
      ]
     },
     "execution_count": 55,
     "metadata": {},
     "output_type": "execute_result"
    },
    {
     "data": {
      "image/png": "[encoded data removed]",
      "text/plain": [
       "<Figure size 1500x800 with 1 Axes>"
      ]
     },
     "metadata": {},
     "output_type": "display_data"
    }
   ],
   "source": [
    "plt.figure(figsize = (15,8))\n",
    "plt.plot(df[:50])\n",
    "plt.legend([\"Y Prediction\", \"Y Actual\"])"
   ]
  }
 ],
 "metadata": {
  "kaggle": {
   "accelerator": "none",
   "dataSources": [
    {
     "datasetId": 2758244,
     "sourceId": 4765161,
     "sourceType": "datasetVersion"
    }
   ],
   "dockerImageVersionId": 30715,
   "isGpuEnabled": false,
   "isInternetEnabled": true,
   "language": "python",
   "sourceType": "notebook"
  },
  "kernelspec": {
   "display_name": "Python 3",
   "language": "python",
   "name": "python3"
  },
  "language_info": {
   "codemirror_mode": {
    "name": "ipython",
    "version": 3
   },
   "file_extension": ".py",
   "mimetype": "text/x-python",
   "name": "python",
   "nbconvert_exporter": "python",
   "pygments_lexer": "ipython3",
   "version": "3.10.13"
  },
  "papermill": {
   "default_parameters": {},
   "duration": 168.640604,
   "end_time": "2024-09-04T10:19:03.304827",
   "environment_variables": {},
   "exception": null,
   "input_path": "__notebook__.ipynb",
   "output_path": "__notebook__.ipynb",
   "parameters": {},
   "start_time": "2024-09-04T10:16:14.664223",
   "version": "2.5.0"
  }
 },
 "nbformat": 4,
 "nbformat_minor": 5
}
